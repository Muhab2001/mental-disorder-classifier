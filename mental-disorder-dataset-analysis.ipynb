{
 "cells": [
  {
   "cell_type": "code",
   "execution_count": 1,
   "id": "4ccaa493",
   "metadata": {
    "_cell_guid": "664461d1-8fea-4f72-984a-6313a89060eb",
    "_uuid": "6d27ac45-34c3-4bbe-9308-67c8010195bc",
    "collapsed": false,
    "execution": {
     "iopub.execute_input": "2024-04-06T22:53:42.994751Z",
     "iopub.status.busy": "2024-04-06T22:53:42.994432Z",
     "iopub.status.idle": "2024-04-06T22:53:43.005740Z",
     "shell.execute_reply": "2024-04-06T22:53:43.004377Z"
    },
    "jupyter": {
     "outputs_hidden": false
    },
    "papermill": {
     "duration": 0.030475,
     "end_time": "2024-04-06T22:53:43.008368",
     "exception": false,
     "start_time": "2024-04-06T22:53:42.977893",
     "status": "completed"
    },
    "tags": []
   },
   "outputs": [],
   "source": [
    "# path configurations\n",
    "INPUT_PATHS = ['/kaggle/input/mental-health-support-feature-analysis/', '/kaggle/input/suicide-watch-reddit/']\n",
    "OCD_PATH = '/kaggle/input/ocd-reddit/ocd.csv'\n",
    "ASPERGERS_PATH = '/kaggle/input/aspergers-dataset/aspergers.csv'\n",
    "OUTPUT_PATH = '/kaggle/working/final_cut.csv'\n",
    "PREPARED_PATH = '/kaggle/input/mental-disorder-dataset-analysis/processed_mental_disorders.csv'"
   ]
  },
  {
   "cell_type": "code",
   "execution_count": 2,
   "id": "5223216f",
   "metadata": {
    "_cell_guid": "36394563-c19e-4c7e-aef1-67740af80683",
    "_uuid": "a1b0d769-16cd-4679-a261-342386f619e3",
    "collapsed": false,
    "execution": {
     "iopub.execute_input": "2024-04-06T22:53:43.042965Z",
     "iopub.status.busy": "2024-04-06T22:53:43.041855Z",
     "iopub.status.idle": "2024-04-06T22:53:43.048514Z",
     "shell.execute_reply": "2024-04-06T22:53:43.047206Z"
    },
    "jupyter": {
     "outputs_hidden": false
    },
    "papermill": {
     "duration": 0.027797,
     "end_time": "2024-04-06T22:53:43.051332",
     "exception": false,
     "start_time": "2024-04-06T22:53:43.023535",
     "status": "completed"
    },
    "tags": []
   },
   "outputs": [],
   "source": [
    "# retained dataframe fields\n",
    "SAVED_FIELDS = ['subreddit', 'post']\n",
    "MENTAL_DISORDER_LABELS = ['adhd', 'bipolar', 'autism', 'schizophrenia', 'anxiety', 'lonely',\n",
    "       'depression', 'mentalhealth', 'eating-disorder', 'jokes', 'ptsd',\n",
    "       'suicidewatch', 'OCD']\n",
    "NEUTRAL_MENTAL_DISORDER = 'no-mental-disorder'\n",
    "MISSING_SENTIMENT_PLACEHOLDER = -1 ## value used to flag, blocking the training when facing this label"
   ]
  },
  {
   "cell_type": "code",
   "execution_count": 3,
   "id": "3cd56ecf",
   "metadata": {
    "_cell_guid": "7e2425c8-9bc6-4390-abdd-7b52bbd5d30b",
    "_uuid": "b1c5659d-0807-4fea-bbb9-051b94f7f1a2",
    "collapsed": false,
    "execution": {
     "iopub.execute_input": "2024-04-06T22:53:43.083547Z",
     "iopub.status.busy": "2024-04-06T22:53:43.082955Z",
     "iopub.status.idle": "2024-04-06T22:53:45.557337Z",
     "shell.execute_reply": "2024-04-06T22:53:45.556456Z"
    },
    "jupyter": {
     "outputs_hidden": false
    },
    "papermill": {
     "duration": 2.493045,
     "end_time": "2024-04-06T22:53:45.559566",
     "exception": false,
     "start_time": "2024-04-06T22:53:43.066521",
     "status": "completed"
    },
    "tags": []
   },
   "outputs": [],
   "source": [
    "import numpy as np\n",
    "import pandas as pd\n",
    "import matplotlib.pyplot as plt\n",
    "import os\n",
    "from pprint import pprint\n",
    "from tqdm import tqdm\n",
    "from typing import Dict, List\n",
    "from IPython.display import display\n",
    "import seaborn as sns"
   ]
  },
  {
   "cell_type": "code",
   "execution_count": 4,
   "id": "ee240f22",
   "metadata": {
    "_cell_guid": "e2eab1b6-d71e-4940-b4d0-283110bfb7f6",
    "_uuid": "06f8ee0e-42ec-43f7-ba8e-7ef89c150d4b",
    "collapsed": false,
    "execution": {
     "iopub.execute_input": "2024-04-06T22:53:45.592804Z",
     "iopub.status.busy": "2024-04-06T22:53:45.591843Z",
     "iopub.status.idle": "2024-04-06T22:53:45.597221Z",
     "shell.execute_reply": "2024-04-06T22:53:45.596043Z"
    },
    "jupyter": {
     "outputs_hidden": false
    },
    "papermill": {
     "duration": 0.024607,
     "end_time": "2024-04-06T22:53:45.599580",
     "exception": false,
     "start_time": "2024-04-06T22:53:45.574973",
     "status": "completed"
    },
    "tags": []
   },
   "outputs": [],
   "source": [
    "# utility to list directories form differnet files\n",
    "def listdirs(basedirs: str):\n",
    "  return [os.path.join(basedir, dir) for basedir in basedirs for dir in os.listdir(basedir) if dir.endswith('.csv')]"
   ]
  },
  {
   "cell_type": "markdown",
   "id": "ea2d4c50",
   "metadata": {
    "_cell_guid": "d6cb7379-015a-40ed-9b70-e37db1486bef",
    "_uuid": "944f7e10-3aa8-41a2-a6d8-348f490506ff",
    "papermill": {
     "duration": 0.015082,
     "end_time": "2024-04-06T22:53:45.630497",
     "exception": false,
     "start_time": "2024-04-06T22:53:45.615415",
     "status": "completed"
    },
    "tags": []
   },
   "source": [
    "# Loading and processing the mental disorder classification datasets"
   ]
  },
  {
   "cell_type": "code",
   "execution_count": 5,
   "id": "de1d0e94",
   "metadata": {
    "_cell_guid": "a3512a28-90af-4b00-8d09-5893fee3a27d",
    "_uuid": "04cba891-fe6b-493b-8dae-12fd50b55ede",
    "collapsed": false,
    "execution": {
     "iopub.execute_input": "2024-04-06T22:53:45.664108Z",
     "iopub.status.busy": "2024-04-06T22:53:45.662998Z",
     "iopub.status.idle": "2024-04-06T22:54:39.743131Z",
     "shell.execute_reply": "2024-04-06T22:54:39.742072Z"
    },
    "jupyter": {
     "outputs_hidden": false
    },
    "papermill": {
     "duration": 54.099927,
     "end_time": "2024-04-06T22:54:39.745615",
     "exception": false,
     "start_time": "2024-04-06T22:53:45.645688",
     "status": "completed"
    },
    "tags": []
   },
   "outputs": [
    {
     "name": "stderr",
     "output_type": "stream",
     "text": [
      "100%|██████████| 102/102 [00:53<00:00,  1.91it/s]\n"
     ]
    }
   ],
   "source": [
    "from typing import List\n",
    "\n",
    "def merge_csv(basedirs: List[str]):\n",
    "\n",
    "  dirs = listdirs(basedirs)\n",
    "  outputs: List[pd.DataFrame] = []\n",
    "\n",
    "  for dir in tqdm(dirs):\n",
    "    if not any( \n",
    "               [ label in dir for label in ['guns', 'relationships', 'divorce', 'alcoholism', 'COVID19', 'legaladvice']\n",
    "               ]):\n",
    "    \n",
    "        df = pd.read_csv(dir, index_col=False)\n",
    "        outputs.append(df)\n",
    "\n",
    "  return pd.concat(outputs, ignore_index=True)\n",
    " \n",
    "full_df = merge_csv(INPUT_PATHS)"
   ]
  },
  {
   "cell_type": "code",
   "execution_count": 6,
   "id": "bdc53533",
   "metadata": {
    "_cell_guid": "2f36afe7-54ac-4add-9c54-8962833678f2",
    "_uuid": "d4337d7d-d3d2-4d80-b445-cc2f1595c43f",
    "collapsed": false,
    "execution": {
     "iopub.execute_input": "2024-04-06T22:54:39.785944Z",
     "iopub.status.busy": "2024-04-06T22:54:39.785567Z",
     "iopub.status.idle": "2024-04-06T22:57:39.975102Z",
     "shell.execute_reply": "2024-04-06T22:57:39.973536Z"
    },
    "jupyter": {
     "outputs_hidden": false
    },
    "papermill": {
     "duration": 180.212427,
     "end_time": "2024-04-06T22:57:39.977548",
     "exception": false,
     "start_time": "2024-04-06T22:54:39.765121",
     "status": "completed"
    },
    "tags": []
   },
   "outputs": [],
   "source": [
    "full_df.to_csv('/kaggle/working/merged.csv')"
   ]
  },
  {
   "cell_type": "code",
   "execution_count": null,
   "id": "aacae203",
   "metadata": {
    "_cell_guid": "f2abec62-f9e6-4e93-ad9e-3e1316d0f8c9",
    "_uuid": "5f56743a-e413-4d2b-888b-e5f1739a7bed",
    "collapsed": false,
    "jupyter": {
     "outputs_hidden": false
    },
    "papermill": {
     "duration": 0.021011,
     "end_time": "2024-04-06T22:57:40.020297",
     "exception": false,
     "start_time": "2024-04-06T22:57:39.999286",
     "status": "completed"
    },
    "tags": []
   },
   "outputs": [],
   "source": []
  },
  {
   "cell_type": "code",
   "execution_count": 7,
   "id": "20c67a17",
   "metadata": {
    "_cell_guid": "58f9e60d-cd53-4e73-9e1e-e366c9fa5a4c",
    "_uuid": "1ac0982f-90ec-4706-be0a-b8a8d192e3e5",
    "collapsed": false,
    "execution": {
     "iopub.execute_input": "2024-04-06T22:57:40.064511Z",
     "iopub.status.busy": "2024-04-06T22:57:40.063858Z",
     "iopub.status.idle": "2024-04-06T22:57:40.067613Z",
     "shell.execute_reply": "2024-04-06T22:57:40.066949Z"
    },
    "jupyter": {
     "outputs_hidden": false
    },
    "papermill": {
     "duration": 0.02755,
     "end_time": "2024-04-06T22:57:40.069329",
     "exception": false,
     "start_time": "2024-04-06T22:57:40.041779",
     "status": "completed"
    },
    "tags": []
   },
   "outputs": [],
   "source": [
    "# full_df = pd.read_csv('/kaggle/input/mental-disorder-dataset-analysis/merged.csv')"
   ]
  },
  {
   "cell_type": "markdown",
   "id": "d7af4571",
   "metadata": {
    "_cell_guid": "dca6e7e8-4fac-4a13-822e-440d4033b909",
    "_uuid": "8b9f464b-15e2-4458-be80-311c665d9c1d",
    "papermill": {
     "duration": 0.02101,
     "end_time": "2024-04-06T22:57:40.113478",
     "exception": false,
     "start_time": "2024-04-06T22:57:40.092468",
     "status": "completed"
    },
    "tags": []
   },
   "source": [
    "# loading and re-cast the OCD data"
   ]
  },
  {
   "cell_type": "code",
   "execution_count": 8,
   "id": "8c54b8c6",
   "metadata": {
    "_cell_guid": "feb1288e-7e8e-4de1-b257-a9c19970f17b",
    "_uuid": "fb435f05-736e-44e1-9473-e76381f89b04",
    "collapsed": false,
    "execution": {
     "iopub.execute_input": "2024-04-06T22:57:40.158706Z",
     "iopub.status.busy": "2024-04-06T22:57:40.157798Z",
     "iopub.status.idle": "2024-04-06T22:57:41.107058Z",
     "shell.execute_reply": "2024-04-06T22:57:41.104719Z"
    },
    "jupyter": {
     "outputs_hidden": false
    },
    "papermill": {
     "duration": 0.975436,
     "end_time": "2024-04-06T22:57:41.110121",
     "exception": false,
     "start_time": "2024-04-06T22:57:40.134685",
     "status": "completed"
    },
    "tags": []
   },
   "outputs": [
    {
     "data": {
      "text/html": [
       "<div>\n",
       "<style scoped>\n",
       "    .dataframe tbody tr th:only-of-type {\n",
       "        vertical-align: middle;\n",
       "    }\n",
       "\n",
       "    .dataframe tbody tr th {\n",
       "        vertical-align: top;\n",
       "    }\n",
       "\n",
       "    .dataframe thead th {\n",
       "        text-align: right;\n",
       "    }\n",
       "</style>\n",
       "<table border=\"1\" class=\"dataframe\">\n",
       "  <thead>\n",
       "    <tr style=\"text-align: right;\">\n",
       "      <th></th>\n",
       "      <th>author</th>\n",
       "      <th>body</th>\n",
       "      <th>created_utc</th>\n",
       "      <th>id</th>\n",
       "      <th>num_comments</th>\n",
       "      <th>score</th>\n",
       "      <th>subreddit</th>\n",
       "      <th>title</th>\n",
       "      <th>upvote_ratio</th>\n",
       "      <th>url</th>\n",
       "      <th>post</th>\n",
       "    </tr>\n",
       "  </thead>\n",
       "  <tbody>\n",
       "    <tr>\n",
       "      <th>0</th>\n",
       "      <td>christmascamearly</td>\n",
       "      <td>So I know the title/ post sounds gross, but I ...</td>\n",
       "      <td>2021-12-22T18:26:02.000Z</td>\n",
       "      <td>rmbecy</td>\n",
       "      <td>1</td>\n",
       "      <td>1</td>\n",
       "      <td>OCD</td>\n",
       "      <td>OCD with Bathroom use/ Do I have OCD?</td>\n",
       "      <td>1.00</td>\n",
       "      <td>https://www.reddit.com/r/OCD/comments/rmbecy/o...</td>\n",
       "      <td>So I know the title/ post sounds gross, but I ...</td>\n",
       "    </tr>\n",
       "    <tr>\n",
       "      <th>1</th>\n",
       "      <td>Yupitisme1995</td>\n",
       "      <td>Sorry, I've asked before, but I'm in a dark da...</td>\n",
       "      <td>2021-12-22T18:08:52.000Z</td>\n",
       "      <td>rmb0ql</td>\n",
       "      <td>2</td>\n",
       "      <td>1</td>\n",
       "      <td>OCD</td>\n",
       "      <td>Is there anyone I can talk to? I'm desperate.</td>\n",
       "      <td>1.00</td>\n",
       "      <td>https://www.reddit.com/r/OCD/comments/rmb0ql/i...</td>\n",
       "      <td>Sorry, I've asked before, but I'm in a dark da...</td>\n",
       "    </tr>\n",
       "    <tr>\n",
       "      <th>2</th>\n",
       "      <td>moonwalker04</td>\n",
       "      <td>I changed my account password twice today. The...</td>\n",
       "      <td>2021-12-22T17:59:53.000Z</td>\n",
       "      <td>rmat68</td>\n",
       "      <td>0</td>\n",
       "      <td>1</td>\n",
       "      <td>OCD</td>\n",
       "      <td>HAVE I BEEN HACKED? PLEASE HELP</td>\n",
       "      <td>1.00</td>\n",
       "      <td>https://www.reddit.com/r/OCD/comments/rmat68/h...</td>\n",
       "      <td>I changed my account password twice today. The...</td>\n",
       "    </tr>\n",
       "    <tr>\n",
       "      <th>3</th>\n",
       "      <td>terrapin09</td>\n",
       "      <td>I have ADHD and I highly suspect I have OCD bu...</td>\n",
       "      <td>2021-12-22T17:55:59.000Z</td>\n",
       "      <td>rmaq5r</td>\n",
       "      <td>0</td>\n",
       "      <td>1</td>\n",
       "      <td>OCD</td>\n",
       "      <td>ADHD and OCD</td>\n",
       "      <td>1.00</td>\n",
       "      <td>https://www.reddit.com/r/OCD/comments/rmaq5r/a...</td>\n",
       "      <td>I have ADHD and I highly suspect I have OCD bu...</td>\n",
       "    </tr>\n",
       "    <tr>\n",
       "      <th>4</th>\n",
       "      <td>loveness7</td>\n",
       "      <td>[removed]</td>\n",
       "      <td>2021-12-22T17:52:04.000Z</td>\n",
       "      <td>rman3v</td>\n",
       "      <td>0</td>\n",
       "      <td>1</td>\n",
       "      <td>OCD</td>\n",
       "      <td>IS IT STILL A FALSE MEMORY IF YOU HAVE THE IMA...</td>\n",
       "      <td>1.00</td>\n",
       "      <td>https://www.reddit.com/r/OCD/comments/rman3v/i...</td>\n",
       "      <td>[removed]</td>\n",
       "    </tr>\n",
       "    <tr>\n",
       "      <th>...</th>\n",
       "      <td>...</td>\n",
       "      <td>...</td>\n",
       "      <td>...</td>\n",
       "      <td>...</td>\n",
       "      <td>...</td>\n",
       "      <td>...</td>\n",
       "      <td>...</td>\n",
       "      <td>...</td>\n",
       "      <td>...</td>\n",
       "      <td>...</td>\n",
       "      <td>...</td>\n",
       "    </tr>\n",
       "    <tr>\n",
       "      <th>42821</th>\n",
       "      <td>Megan56789000</td>\n",
       "      <td>I am having some trouble with ERP and compulsi...</td>\n",
       "      <td>2021-02-16T02:47:32.000Z</td>\n",
       "      <td>lktx1h</td>\n",
       "      <td>1</td>\n",
       "      <td>2</td>\n",
       "      <td>OCD</td>\n",
       "      <td>Obsessive mental rehearsal vs Exposure</td>\n",
       "      <td>1.00</td>\n",
       "      <td>https://www.reddit.com/r/OCD/comments/lktx1h/o...</td>\n",
       "      <td>I am having some trouble with ERP and compulsi...</td>\n",
       "    </tr>\n",
       "    <tr>\n",
       "      <th>42822</th>\n",
       "      <td>georgegamer923</td>\n",
       "      <td>i have pocd and i just wanted to say i fucking...</td>\n",
       "      <td>2021-02-16T02:42:59.000Z</td>\n",
       "      <td>lkttuc</td>\n",
       "      <td>0</td>\n",
       "      <td>1</td>\n",
       "      <td>OCD</td>\n",
       "      <td>pocd vent</td>\n",
       "      <td>1.00</td>\n",
       "      <td>https://www.reddit.com/r/OCD/comments/lkttuc/p...</td>\n",
       "      <td>i have pocd and i just wanted to say i fucking...</td>\n",
       "    </tr>\n",
       "    <tr>\n",
       "      <th>42823</th>\n",
       "      <td>[deleted]</td>\n",
       "      <td>[deleted]</td>\n",
       "      <td>2021-02-16T02:38:40.000Z</td>\n",
       "      <td>lktqmp</td>\n",
       "      <td>1</td>\n",
       "      <td>1</td>\n",
       "      <td>OCD</td>\n",
       "      <td>ERP: I’m trying a new skin product (big exposu...</td>\n",
       "      <td>1.00</td>\n",
       "      <td>https://www.reddit.com/r/OCD/comments/lktqmp/e...</td>\n",
       "      <td>[deleted]</td>\n",
       "    </tr>\n",
       "    <tr>\n",
       "      <th>42824</th>\n",
       "      <td>Commercial-Grocery65</td>\n",
       "      <td>Hey good people. Thanks for stopping by!\\n\\nTo...</td>\n",
       "      <td>2021-02-16T02:34:28.000Z</td>\n",
       "      <td>lktnw5</td>\n",
       "      <td>5</td>\n",
       "      <td>55</td>\n",
       "      <td>OCD</td>\n",
       "      <td>READ this if you're sick of OCD controlling yo...</td>\n",
       "      <td>0.95</td>\n",
       "      <td>https://www.reddit.com/r/OCD/comments/lktnw5/r...</td>\n",
       "      <td>Hey good people. Thanks for stopping by!\\n\\nTo...</td>\n",
       "    </tr>\n",
       "    <tr>\n",
       "      <th>42825</th>\n",
       "      <td>the_mini_labrabubble</td>\n",
       "      <td>I guess I'm just looking for some people to sa...</td>\n",
       "      <td>2021-02-16T02:32:47.000Z</td>\n",
       "      <td>lktms1</td>\n",
       "      <td>1</td>\n",
       "      <td>1</td>\n",
       "      <td>OCD</td>\n",
       "      <td>Real event/embarrassing moment stuck in my head</td>\n",
       "      <td>1.00</td>\n",
       "      <td>https://www.reddit.com/r/OCD/comments/lktms1/r...</td>\n",
       "      <td>I guess I'm just looking for some people to sa...</td>\n",
       "    </tr>\n",
       "  </tbody>\n",
       "</table>\n",
       "<p>42826 rows × 11 columns</p>\n",
       "</div>"
      ],
      "text/plain": [
       "                     author  \\\n",
       "0         christmascamearly   \n",
       "1             Yupitisme1995   \n",
       "2              moonwalker04   \n",
       "3                terrapin09   \n",
       "4                 loveness7   \n",
       "...                     ...   \n",
       "42821         Megan56789000   \n",
       "42822        georgegamer923   \n",
       "42823             [deleted]   \n",
       "42824  Commercial-Grocery65   \n",
       "42825  the_mini_labrabubble   \n",
       "\n",
       "                                                    body  \\\n",
       "0      So I know the title/ post sounds gross, but I ...   \n",
       "1      Sorry, I've asked before, but I'm in a dark da...   \n",
       "2      I changed my account password twice today. The...   \n",
       "3      I have ADHD and I highly suspect I have OCD bu...   \n",
       "4                                              [removed]   \n",
       "...                                                  ...   \n",
       "42821  I am having some trouble with ERP and compulsi...   \n",
       "42822  i have pocd and i just wanted to say i fucking...   \n",
       "42823                                          [deleted]   \n",
       "42824  Hey good people. Thanks for stopping by!\\n\\nTo...   \n",
       "42825  I guess I'm just looking for some people to sa...   \n",
       "\n",
       "                    created_utc      id  num_comments  score subreddit  \\\n",
       "0      2021-12-22T18:26:02.000Z  rmbecy             1      1       OCD   \n",
       "1      2021-12-22T18:08:52.000Z  rmb0ql             2      1       OCD   \n",
       "2      2021-12-22T17:59:53.000Z  rmat68             0      1       OCD   \n",
       "3      2021-12-22T17:55:59.000Z  rmaq5r             0      1       OCD   \n",
       "4      2021-12-22T17:52:04.000Z  rman3v             0      1       OCD   \n",
       "...                         ...     ...           ...    ...       ...   \n",
       "42821  2021-02-16T02:47:32.000Z  lktx1h             1      2       OCD   \n",
       "42822  2021-02-16T02:42:59.000Z  lkttuc             0      1       OCD   \n",
       "42823  2021-02-16T02:38:40.000Z  lktqmp             1      1       OCD   \n",
       "42824  2021-02-16T02:34:28.000Z  lktnw5             5     55       OCD   \n",
       "42825  2021-02-16T02:32:47.000Z  lktms1             1      1       OCD   \n",
       "\n",
       "                                                   title  upvote_ratio  \\\n",
       "0                  OCD with Bathroom use/ Do I have OCD?          1.00   \n",
       "1          Is there anyone I can talk to? I'm desperate.          1.00   \n",
       "2                        HAVE I BEEN HACKED? PLEASE HELP          1.00   \n",
       "3                                           ADHD and OCD          1.00   \n",
       "4      IS IT STILL A FALSE MEMORY IF YOU HAVE THE IMA...          1.00   \n",
       "...                                                  ...           ...   \n",
       "42821             Obsessive mental rehearsal vs Exposure          1.00   \n",
       "42822                                          pocd vent          1.00   \n",
       "42823  ERP: I’m trying a new skin product (big exposu...          1.00   \n",
       "42824  READ this if you're sick of OCD controlling yo...          0.95   \n",
       "42825    Real event/embarrassing moment stuck in my head          1.00   \n",
       "\n",
       "                                                     url  \\\n",
       "0      https://www.reddit.com/r/OCD/comments/rmbecy/o...   \n",
       "1      https://www.reddit.com/r/OCD/comments/rmb0ql/i...   \n",
       "2      https://www.reddit.com/r/OCD/comments/rmat68/h...   \n",
       "3      https://www.reddit.com/r/OCD/comments/rmaq5r/a...   \n",
       "4      https://www.reddit.com/r/OCD/comments/rman3v/i...   \n",
       "...                                                  ...   \n",
       "42821  https://www.reddit.com/r/OCD/comments/lktx1h/o...   \n",
       "42822  https://www.reddit.com/r/OCD/comments/lkttuc/p...   \n",
       "42823  https://www.reddit.com/r/OCD/comments/lktqmp/e...   \n",
       "42824  https://www.reddit.com/r/OCD/comments/lktnw5/r...   \n",
       "42825  https://www.reddit.com/r/OCD/comments/lktms1/r...   \n",
       "\n",
       "                                                    post  \n",
       "0      So I know the title/ post sounds gross, but I ...  \n",
       "1      Sorry, I've asked before, but I'm in a dark da...  \n",
       "2      I changed my account password twice today. The...  \n",
       "3      I have ADHD and I highly suspect I have OCD bu...  \n",
       "4                                              [removed]  \n",
       "...                                                  ...  \n",
       "42821  I am having some trouble with ERP and compulsi...  \n",
       "42822  i have pocd and i just wanted to say i fucking...  \n",
       "42823                                          [deleted]  \n",
       "42824  Hey good people. Thanks for stopping by!\\n\\nTo...  \n",
       "42825  I guess I'm just looking for some people to sa...  \n",
       "\n",
       "[42826 rows x 11 columns]"
      ]
     },
     "execution_count": 8,
     "metadata": {},
     "output_type": "execute_result"
    }
   ],
   "source": [
    "ocd_df = pd.read_csv('/kaggle/input/ocd-reddit/ocd.csv', index_col=False)\n",
    "\n",
    "ocd_df['post'] = ocd_df['body']\n",
    "ocd_df"
   ]
  },
  {
   "cell_type": "markdown",
   "id": "b696f402",
   "metadata": {
    "_cell_guid": "99191106-c91f-4f8d-91ef-60791fad944b",
    "_uuid": "e8f87e35-5da3-4ac4-9d4d-3738ddcc5b87",
    "papermill": {
     "duration": 0.076708,
     "end_time": "2024-04-06T22:57:41.207911",
     "exception": false,
     "start_time": "2024-04-06T22:57:41.131203",
     "status": "completed"
    },
    "tags": []
   },
   "source": [
    "# Merging original dataset with the OCD dataset"
   ]
  },
  {
   "cell_type": "code",
   "execution_count": 9,
   "id": "d8fc8025",
   "metadata": {
    "_cell_guid": "49455c1e-00e6-437f-991c-173c027ac4ef",
    "_uuid": "6c99bf3f-7997-4c5d-b388-57c8e4d92a61",
    "collapsed": false,
    "execution": {
     "iopub.execute_input": "2024-04-06T22:57:41.250384Z",
     "iopub.status.busy": "2024-04-06T22:57:41.250032Z",
     "iopub.status.idle": "2024-04-06T22:57:41.309927Z",
     "shell.execute_reply": "2024-04-06T22:57:41.308323Z"
    },
    "jupyter": {
     "outputs_hidden": false
    },
    "papermill": {
     "duration": 0.084283,
     "end_time": "2024-04-06T22:57:41.312504",
     "exception": false,
     "start_time": "2024-04-06T22:57:41.228221",
     "status": "completed"
    },
    "tags": []
   },
   "outputs": [
    {
     "data": {
      "text/html": [
       "<div>\n",
       "<style scoped>\n",
       "    .dataframe tbody tr th:only-of-type {\n",
       "        vertical-align: middle;\n",
       "    }\n",
       "\n",
       "    .dataframe tbody tr th {\n",
       "        vertical-align: top;\n",
       "    }\n",
       "\n",
       "    .dataframe thead th {\n",
       "        text-align: right;\n",
       "    }\n",
       "</style>\n",
       "<table border=\"1\" class=\"dataframe\">\n",
       "  <thead>\n",
       "    <tr style=\"text-align: right;\">\n",
       "      <th></th>\n",
       "      <th>subreddit</th>\n",
       "      <th>post</th>\n",
       "    </tr>\n",
       "  </thead>\n",
       "  <tbody>\n",
       "    <tr>\n",
       "      <th>0</th>\n",
       "      <td>parenting</td>\n",
       "      <td>Parents who don’t fully cover their kids in th...</td>\n",
       "    </tr>\n",
       "    <tr>\n",
       "      <th>1</th>\n",
       "      <td>parenting</td>\n",
       "      <td>Help advice needed asap 4yo stomach ache/const...</td>\n",
       "    </tr>\n",
       "    <tr>\n",
       "      <th>2</th>\n",
       "      <td>parenting</td>\n",
       "      <td>It will be 13 degrees (F) out in the morning. ...</td>\n",
       "    </tr>\n",
       "    <tr>\n",
       "      <th>3</th>\n",
       "      <td>parenting</td>\n",
       "      <td>Just a rant about kids and social media... The...</td>\n",
       "    </tr>\n",
       "    <tr>\n",
       "      <th>4</th>\n",
       "      <td>parenting</td>\n",
       "      <td>Potty Training a Tyrannical Camel My daughter ...</td>\n",
       "    </tr>\n",
       "    <tr>\n",
       "      <th>...</th>\n",
       "      <td>...</td>\n",
       "      <td>...</td>\n",
       "    </tr>\n",
       "    <tr>\n",
       "      <th>42821</th>\n",
       "      <td>OCD</td>\n",
       "      <td>I am having some trouble with ERP and compulsi...</td>\n",
       "    </tr>\n",
       "    <tr>\n",
       "      <th>42822</th>\n",
       "      <td>OCD</td>\n",
       "      <td>i have pocd and i just wanted to say i fucking...</td>\n",
       "    </tr>\n",
       "    <tr>\n",
       "      <th>42823</th>\n",
       "      <td>OCD</td>\n",
       "      <td>[deleted]</td>\n",
       "    </tr>\n",
       "    <tr>\n",
       "      <th>42824</th>\n",
       "      <td>OCD</td>\n",
       "      <td>Hey good people. Thanks for stopping by!\\n\\nTo...</td>\n",
       "    </tr>\n",
       "    <tr>\n",
       "      <th>42825</th>\n",
       "      <td>OCD</td>\n",
       "      <td>I guess I'm just looking for some people to sa...</td>\n",
       "    </tr>\n",
       "  </tbody>\n",
       "</table>\n",
       "<p>838932 rows × 2 columns</p>\n",
       "</div>"
      ],
      "text/plain": [
       "       subreddit                                               post\n",
       "0      parenting  Parents who don’t fully cover their kids in th...\n",
       "1      parenting  Help advice needed asap 4yo stomach ache/const...\n",
       "2      parenting  It will be 13 degrees (F) out in the morning. ...\n",
       "3      parenting  Just a rant about kids and social media... The...\n",
       "4      parenting  Potty Training a Tyrannical Camel My daughter ...\n",
       "...          ...                                                ...\n",
       "42821        OCD  I am having some trouble with ERP and compulsi...\n",
       "42822        OCD  i have pocd and i just wanted to say i fucking...\n",
       "42823        OCD                                          [deleted]\n",
       "42824        OCD  Hey good people. Thanks for stopping by!\\n\\nTo...\n",
       "42825        OCD  I guess I'm just looking for some people to sa...\n",
       "\n",
       "[838932 rows x 2 columns]"
      ]
     },
     "execution_count": 9,
     "metadata": {},
     "output_type": "execute_result"
    }
   ],
   "source": [
    "filtered_df = full_df[SAVED_FIELDS]\n",
    "filtered_ocd_df = ocd_df[SAVED_FIELDS]\n",
    "\n",
    "final_df = pd.concat([filtered_df, filtered_ocd_df])\n",
    "final_df"
   ]
  },
  {
   "cell_type": "markdown",
   "id": "57d4d0df",
   "metadata": {
    "_cell_guid": "2f171d30-7af4-429a-99be-970920651c24",
    "_uuid": "a0dac549-4466-4d68-9348-31f3965431e2",
    "papermill": {
     "duration": 0.020613,
     "end_time": "2024-04-06T22:57:41.353980",
     "exception": false,
     "start_time": "2024-04-06T22:57:41.333367",
     "status": "completed"
    },
    "tags": []
   },
   "source": [
    "# merging aspergers dataset with OCD and original dataset"
   ]
  },
  {
   "cell_type": "code",
   "execution_count": 10,
   "id": "bd88e5de",
   "metadata": {
    "_cell_guid": "d8e2ea85-499f-4c74-8503-84e217229605",
    "_uuid": "f1f928c3-43dc-429d-80f7-68e97a366ea6",
    "collapsed": false,
    "execution": {
     "iopub.execute_input": "2024-04-06T22:57:41.397384Z",
     "iopub.status.busy": "2024-04-06T22:57:41.397070Z",
     "iopub.status.idle": "2024-04-06T22:57:41.841482Z",
     "shell.execute_reply": "2024-04-06T22:57:41.840304Z"
    },
    "jupyter": {
     "outputs_hidden": false
    },
    "papermill": {
     "duration": 0.469241,
     "end_time": "2024-04-06T22:57:41.844023",
     "exception": false,
     "start_time": "2024-04-06T22:57:41.374782",
     "status": "completed"
    },
    "tags": []
   },
   "outputs": [
    {
     "data": {
      "text/html": [
       "<div>\n",
       "<style scoped>\n",
       "    .dataframe tbody tr th:only-of-type {\n",
       "        vertical-align: middle;\n",
       "    }\n",
       "\n",
       "    .dataframe tbody tr th {\n",
       "        vertical-align: top;\n",
       "    }\n",
       "\n",
       "    .dataframe thead th {\n",
       "        text-align: right;\n",
       "    }\n",
       "</style>\n",
       "<table border=\"1\" class=\"dataframe\">\n",
       "  <thead>\n",
       "    <tr style=\"text-align: right;\">\n",
       "      <th></th>\n",
       "      <th>author</th>\n",
       "      <th>body</th>\n",
       "      <th>created_utc</th>\n",
       "      <th>id</th>\n",
       "      <th>num_comments</th>\n",
       "      <th>score</th>\n",
       "      <th>subreddit</th>\n",
       "      <th>title</th>\n",
       "      <th>upvote_ratio</th>\n",
       "      <th>url</th>\n",
       "    </tr>\n",
       "  </thead>\n",
       "  <tbody>\n",
       "    <tr>\n",
       "      <th>0</th>\n",
       "      <td>Adadum</td>\n",
       "      <td>I wish I could do a poll for this but what wou...</td>\n",
       "      <td>2021-12-23T17:56:36.000Z</td>\n",
       "      <td>rn19yc</td>\n",
       "      <td>0</td>\n",
       "      <td>1</td>\n",
       "      <td>aspergers</td>\n",
       "      <td>Separatism for high-functioning Autists?</td>\n",
       "      <td>1.00</td>\n",
       "      <td>https://www.reddit.com/r/aspergers/comments/rn...</td>\n",
       "    </tr>\n",
       "    <tr>\n",
       "      <th>1</th>\n",
       "      <td>Lazy_Opposite8263</td>\n",
       "      <td>I was diagnosed with high functioning asperger...</td>\n",
       "      <td>2021-12-23T17:53:41.000Z</td>\n",
       "      <td>rn17lw</td>\n",
       "      <td>1</td>\n",
       "      <td>1</td>\n",
       "      <td>aspergers</td>\n",
       "      <td>Friend blaming toxic behaviour on autism? How ...</td>\n",
       "      <td>1.00</td>\n",
       "      <td>https://www.reddit.com/r/aspergers/comments/rn...</td>\n",
       "    </tr>\n",
       "    <tr>\n",
       "      <th>2</th>\n",
       "      <td>LockedOutOfElfland</td>\n",
       "      <td>It's been a while since I've seen a therapist ...</td>\n",
       "      <td>2021-12-23T17:28:07.000Z</td>\n",
       "      <td>rn0n6k</td>\n",
       "      <td>2</td>\n",
       "      <td>3</td>\n",
       "      <td>aspergers</td>\n",
       "      <td>Do therapists/mental health professionals misi...</td>\n",
       "      <td>1.00</td>\n",
       "      <td>https://www.reddit.com/r/aspergers/comments/rn...</td>\n",
       "    </tr>\n",
       "    <tr>\n",
       "      <th>3</th>\n",
       "      <td>PlazmaSkittles</td>\n",
       "      <td>New here.  22 years old.  Diagnosed at 12.  AD...</td>\n",
       "      <td>2021-12-23T16:54:23.000Z</td>\n",
       "      <td>rmzvwn</td>\n",
       "      <td>3</td>\n",
       "      <td>1</td>\n",
       "      <td>aspergers</td>\n",
       "      <td>I think I'm broken</td>\n",
       "      <td>1.00</td>\n",
       "      <td>https://www.reddit.com/r/aspergers/comments/rm...</td>\n",
       "    </tr>\n",
       "    <tr>\n",
       "      <th>4</th>\n",
       "      <td>xime_rollin</td>\n",
       "      <td>based on your understanding</td>\n",
       "      <td>2021-12-23T16:53:43.000Z</td>\n",
       "      <td>rmzvds</td>\n",
       "      <td>0</td>\n",
       "      <td>1</td>\n",
       "      <td>aspergers</td>\n",
       "      <td>I recently took an eq test and scored 20 out o...</td>\n",
       "      <td>1.00</td>\n",
       "      <td>https://www.reddit.com/r/aspergers/comments/rm...</td>\n",
       "    </tr>\n",
       "    <tr>\n",
       "      <th>...</th>\n",
       "      <td>...</td>\n",
       "      <td>...</td>\n",
       "      <td>...</td>\n",
       "      <td>...</td>\n",
       "      <td>...</td>\n",
       "      <td>...</td>\n",
       "      <td>...</td>\n",
       "      <td>...</td>\n",
       "      <td>...</td>\n",
       "      <td>...</td>\n",
       "    </tr>\n",
       "    <tr>\n",
       "      <th>23289</th>\n",
       "      <td>[deleted]</td>\n",
       "      <td>[deleted]</td>\n",
       "      <td>2021-01-11T22:58:57.000Z</td>\n",
       "      <td>kvefms</td>\n",
       "      <td>16</td>\n",
       "      <td>1</td>\n",
       "      <td>aspergers</td>\n",
       "      <td>How to Help an Aspie Not Get Scammed on Tinder</td>\n",
       "      <td>0.67</td>\n",
       "      <td>https://www.reddit.com/r/aspergers/comments/kv...</td>\n",
       "    </tr>\n",
       "    <tr>\n",
       "      <th>23290</th>\n",
       "      <td>[deleted]</td>\n",
       "      <td>[removed]</td>\n",
       "      <td>2021-01-11T22:42:35.000Z</td>\n",
       "      <td>kve45k</td>\n",
       "      <td>0</td>\n",
       "      <td>1</td>\n",
       "      <td>aspergers</td>\n",
       "      <td>Interviewing for a Job is Hell</td>\n",
       "      <td>1.00</td>\n",
       "      <td>https://www.reddit.com/r/aspergers/comments/kv...</td>\n",
       "    </tr>\n",
       "    <tr>\n",
       "      <th>23291</th>\n",
       "      <td>Cyphborg</td>\n",
       "      <td>[removed]</td>\n",
       "      <td>2021-01-11T22:35:24.000Z</td>\n",
       "      <td>kvdyx2</td>\n",
       "      <td>1</td>\n",
       "      <td>1</td>\n",
       "      <td>aspergers</td>\n",
       "      <td>I think I have high-functioning Aspergers but ...</td>\n",
       "      <td>1.00</td>\n",
       "      <td>https://www.reddit.com/r/aspergers/comments/kv...</td>\n",
       "    </tr>\n",
       "    <tr>\n",
       "      <th>23292</th>\n",
       "      <td>frostandstars</td>\n",
       "      <td>I’m aware of trainspotting and its association...</td>\n",
       "      <td>2021-01-11T22:27:19.000Z</td>\n",
       "      <td>kvdsyk</td>\n",
       "      <td>11</td>\n",
       "      <td>8</td>\n",
       "      <td>aspergers</td>\n",
       "      <td>Trains?</td>\n",
       "      <td>1.00</td>\n",
       "      <td>https://www.reddit.com/r/aspergers/comments/kv...</td>\n",
       "    </tr>\n",
       "    <tr>\n",
       "      <th>23293</th>\n",
       "      <td>[deleted]</td>\n",
       "      <td>I skateboard and sometimes bike. I want to hea...</td>\n",
       "      <td>2021-01-11T22:23:19.000Z</td>\n",
       "      <td>kvdq1s</td>\n",
       "      <td>20</td>\n",
       "      <td>8</td>\n",
       "      <td>aspergers</td>\n",
       "      <td>What sports do you guys play?</td>\n",
       "      <td>1.00</td>\n",
       "      <td>https://www.reddit.com/r/aspergers/comments/kv...</td>\n",
       "    </tr>\n",
       "  </tbody>\n",
       "</table>\n",
       "<p>23294 rows × 10 columns</p>\n",
       "</div>"
      ],
      "text/plain": [
       "                   author                                               body  \\\n",
       "0                  Adadum  I wish I could do a poll for this but what wou...   \n",
       "1       Lazy_Opposite8263  I was diagnosed with high functioning asperger...   \n",
       "2      LockedOutOfElfland  It's been a while since I've seen a therapist ...   \n",
       "3          PlazmaSkittles  New here.  22 years old.  Diagnosed at 12.  AD...   \n",
       "4             xime_rollin                        based on your understanding   \n",
       "...                   ...                                                ...   \n",
       "23289           [deleted]                                          [deleted]   \n",
       "23290           [deleted]                                          [removed]   \n",
       "23291            Cyphborg                                          [removed]   \n",
       "23292       frostandstars  I’m aware of trainspotting and its association...   \n",
       "23293           [deleted]  I skateboard and sometimes bike. I want to hea...   \n",
       "\n",
       "                    created_utc      id  num_comments  score  subreddit  \\\n",
       "0      2021-12-23T17:56:36.000Z  rn19yc             0      1  aspergers   \n",
       "1      2021-12-23T17:53:41.000Z  rn17lw             1      1  aspergers   \n",
       "2      2021-12-23T17:28:07.000Z  rn0n6k             2      3  aspergers   \n",
       "3      2021-12-23T16:54:23.000Z  rmzvwn             3      1  aspergers   \n",
       "4      2021-12-23T16:53:43.000Z  rmzvds             0      1  aspergers   \n",
       "...                         ...     ...           ...    ...        ...   \n",
       "23289  2021-01-11T22:58:57.000Z  kvefms            16      1  aspergers   \n",
       "23290  2021-01-11T22:42:35.000Z  kve45k             0      1  aspergers   \n",
       "23291  2021-01-11T22:35:24.000Z  kvdyx2             1      1  aspergers   \n",
       "23292  2021-01-11T22:27:19.000Z  kvdsyk            11      8  aspergers   \n",
       "23293  2021-01-11T22:23:19.000Z  kvdq1s            20      8  aspergers   \n",
       "\n",
       "                                                   title  upvote_ratio  \\\n",
       "0               Separatism for high-functioning Autists?          1.00   \n",
       "1      Friend blaming toxic behaviour on autism? How ...          1.00   \n",
       "2      Do therapists/mental health professionals misi...          1.00   \n",
       "3                                     I think I'm broken          1.00   \n",
       "4      I recently took an eq test and scored 20 out o...          1.00   \n",
       "...                                                  ...           ...   \n",
       "23289     How to Help an Aspie Not Get Scammed on Tinder          0.67   \n",
       "23290                     Interviewing for a Job is Hell          1.00   \n",
       "23291  I think I have high-functioning Aspergers but ...          1.00   \n",
       "23292                                            Trains?          1.00   \n",
       "23293                      What sports do you guys play?          1.00   \n",
       "\n",
       "                                                     url  \n",
       "0      https://www.reddit.com/r/aspergers/comments/rn...  \n",
       "1      https://www.reddit.com/r/aspergers/comments/rn...  \n",
       "2      https://www.reddit.com/r/aspergers/comments/rn...  \n",
       "3      https://www.reddit.com/r/aspergers/comments/rm...  \n",
       "4      https://www.reddit.com/r/aspergers/comments/rm...  \n",
       "...                                                  ...  \n",
       "23289  https://www.reddit.com/r/aspergers/comments/kv...  \n",
       "23290  https://www.reddit.com/r/aspergers/comments/kv...  \n",
       "23291  https://www.reddit.com/r/aspergers/comments/kv...  \n",
       "23292  https://www.reddit.com/r/aspergers/comments/kv...  \n",
       "23293  https://www.reddit.com/r/aspergers/comments/kv...  \n",
       "\n",
       "[23294 rows x 10 columns]"
      ]
     },
     "execution_count": 10,
     "metadata": {},
     "output_type": "execute_result"
    }
   ],
   "source": [
    "asp_df = pd.read_csv(ASPERGERS_PATH, index_col=False)\n",
    "asp_df"
   ]
  },
  {
   "cell_type": "code",
   "execution_count": 11,
   "id": "6a42f7f3",
   "metadata": {
    "_cell_guid": "f7bc225c-43e5-4dd9-8326-ac302a55e8a9",
    "_uuid": "097e246d-8023-431c-a648-ebf30ac6d71b",
    "collapsed": false,
    "execution": {
     "iopub.execute_input": "2024-04-06T22:57:41.887442Z",
     "iopub.status.busy": "2024-04-06T22:57:41.887023Z",
     "iopub.status.idle": "2024-04-06T22:57:41.923695Z",
     "shell.execute_reply": "2024-04-06T22:57:41.922339Z"
    },
    "jupyter": {
     "outputs_hidden": false
    },
    "papermill": {
     "duration": 0.06169,
     "end_time": "2024-04-06T22:57:41.926421",
     "exception": false,
     "start_time": "2024-04-06T22:57:41.864731",
     "status": "completed"
    },
    "tags": []
   },
   "outputs": [
    {
     "data": {
      "text/html": [
       "<div>\n",
       "<style scoped>\n",
       "    .dataframe tbody tr th:only-of-type {\n",
       "        vertical-align: middle;\n",
       "    }\n",
       "\n",
       "    .dataframe tbody tr th {\n",
       "        vertical-align: top;\n",
       "    }\n",
       "\n",
       "    .dataframe thead th {\n",
       "        text-align: right;\n",
       "    }\n",
       "</style>\n",
       "<table border=\"1\" class=\"dataframe\">\n",
       "  <thead>\n",
       "    <tr style=\"text-align: right;\">\n",
       "      <th></th>\n",
       "      <th>subreddit</th>\n",
       "      <th>post</th>\n",
       "    </tr>\n",
       "  </thead>\n",
       "  <tbody>\n",
       "    <tr>\n",
       "      <th>0</th>\n",
       "      <td>parenting</td>\n",
       "      <td>Parents who don’t fully cover their kids in th...</td>\n",
       "    </tr>\n",
       "    <tr>\n",
       "      <th>1</th>\n",
       "      <td>parenting</td>\n",
       "      <td>Help advice needed asap 4yo stomach ache/const...</td>\n",
       "    </tr>\n",
       "    <tr>\n",
       "      <th>2</th>\n",
       "      <td>parenting</td>\n",
       "      <td>It will be 13 degrees (F) out in the morning. ...</td>\n",
       "    </tr>\n",
       "    <tr>\n",
       "      <th>3</th>\n",
       "      <td>parenting</td>\n",
       "      <td>Just a rant about kids and social media... The...</td>\n",
       "    </tr>\n",
       "    <tr>\n",
       "      <th>4</th>\n",
       "      <td>parenting</td>\n",
       "      <td>Potty Training a Tyrannical Camel My daughter ...</td>\n",
       "    </tr>\n",
       "    <tr>\n",
       "      <th>...</th>\n",
       "      <td>...</td>\n",
       "      <td>...</td>\n",
       "    </tr>\n",
       "    <tr>\n",
       "      <th>23289</th>\n",
       "      <td>aspergers</td>\n",
       "      <td>[deleted]</td>\n",
       "    </tr>\n",
       "    <tr>\n",
       "      <th>23290</th>\n",
       "      <td>aspergers</td>\n",
       "      <td>[removed]</td>\n",
       "    </tr>\n",
       "    <tr>\n",
       "      <th>23291</th>\n",
       "      <td>aspergers</td>\n",
       "      <td>[removed]</td>\n",
       "    </tr>\n",
       "    <tr>\n",
       "      <th>23292</th>\n",
       "      <td>aspergers</td>\n",
       "      <td>I’m aware of trainspotting and its association...</td>\n",
       "    </tr>\n",
       "    <tr>\n",
       "      <th>23293</th>\n",
       "      <td>aspergers</td>\n",
       "      <td>I skateboard and sometimes bike. I want to hea...</td>\n",
       "    </tr>\n",
       "  </tbody>\n",
       "</table>\n",
       "<p>862226 rows × 2 columns</p>\n",
       "</div>"
      ],
      "text/plain": [
       "       subreddit                                               post\n",
       "0      parenting  Parents who don’t fully cover their kids in th...\n",
       "1      parenting  Help advice needed asap 4yo stomach ache/const...\n",
       "2      parenting  It will be 13 degrees (F) out in the morning. ...\n",
       "3      parenting  Just a rant about kids and social media... The...\n",
       "4      parenting  Potty Training a Tyrannical Camel My daughter ...\n",
       "...          ...                                                ...\n",
       "23289  aspergers                                          [deleted]\n",
       "23290  aspergers                                          [removed]\n",
       "23291  aspergers                                          [removed]\n",
       "23292  aspergers  I’m aware of trainspotting and its association...\n",
       "23293  aspergers  I skateboard and sometimes bike. I want to hea...\n",
       "\n",
       "[862226 rows x 2 columns]"
      ]
     },
     "execution_count": 11,
     "metadata": {},
     "output_type": "execute_result"
    }
   ],
   "source": [
    "asp_df['post'] = asp_df['body']\n",
    "asp_df[['sent_neg', 'sent_neu', 'sent_pos', 'sent_compound']] = -1\n",
    "asp_df = asp_df[SAVED_FIELDS]\n",
    "final_df = pd.concat([final_df, asp_df])\n",
    "final_df"
   ]
  },
  {
   "cell_type": "markdown",
   "id": "1ee8bf87",
   "metadata": {
    "_cell_guid": "fc9d7c34-ace2-45c0-ac2b-11459dbea1cc",
    "_uuid": "31e2a1c8-5eee-49e5-9733-8fa214d8f4f5",
    "papermill": {
     "duration": 0.020768,
     "end_time": "2024-04-06T22:57:41.968752",
     "exception": false,
     "start_time": "2024-04-06T22:57:41.947984",
     "status": "completed"
    },
    "tags": []
   },
   "source": [
    "# Merging redundant labels, and removing NaN values, and deleted posts"
   ]
  },
  {
   "cell_type": "code",
   "execution_count": 12,
   "id": "a8c039b2",
   "metadata": {
    "_cell_guid": "a62c38d2-be3d-4b66-adef-fe2bf4ec79d9",
    "_uuid": "020f28e1-94ec-45f9-a84a-1f515da2ced0",
    "collapsed": false,
    "execution": {
     "iopub.execute_input": "2024-04-06T22:57:42.012206Z",
     "iopub.status.busy": "2024-04-06T22:57:42.011864Z",
     "iopub.status.idle": "2024-04-06T22:57:42.165931Z",
     "shell.execute_reply": "2024-04-06T22:57:42.165157Z"
    },
    "jupyter": {
     "outputs_hidden": false
    },
    "papermill": {
     "duration": 0.178431,
     "end_time": "2024-04-06T22:57:42.168113",
     "exception": false,
     "start_time": "2024-04-06T22:57:41.989682",
     "status": "completed"
    },
    "tags": []
   },
   "outputs": [],
   "source": [
    "# mapping all different variants of the BPD into a single label\n",
    "final_df['subreddit'] = final_df['subreddit'].map(lambda x: x if x not in ['bipolarreddit', 'bpd'] else 'bipolar')"
   ]
  },
  {
   "cell_type": "code",
   "execution_count": 13,
   "id": "19df50da",
   "metadata": {
    "_cell_guid": "093d25a7-002b-420f-a1a1-c86140f46056",
    "_uuid": "0325161f-1fb6-43aa-85f2-802006aedd08",
    "collapsed": false,
    "execution": {
     "iopub.execute_input": "2024-04-06T22:57:42.211732Z",
     "iopub.status.busy": "2024-04-06T22:57:42.210552Z",
     "iopub.status.idle": "2024-04-06T22:57:42.370198Z",
     "shell.execute_reply": "2024-04-06T22:57:42.368710Z"
    },
    "jupyter": {
     "outputs_hidden": false
    },
    "papermill": {
     "duration": 0.184601,
     "end_time": "2024-04-06T22:57:42.373078",
     "exception": false,
     "start_time": "2024-04-06T22:57:42.188477",
     "status": "completed"
    },
    "tags": []
   },
   "outputs": [],
   "source": [
    "# mapping all different labels of anxiety into one\n",
    "final_df['subreddit'] = final_df['subreddit'].map(lambda x: x if x not in ['anxiety', 'healthanxiety', 'socialanxiety'] else 'anxiety')"
   ]
  },
  {
   "cell_type": "code",
   "execution_count": 14,
   "id": "9b779390",
   "metadata": {
    "_cell_guid": "8ccfcd46-157e-4dc4-9fa5-870fcb537d85",
    "_uuid": "af42b5a0-4b5a-470e-8707-bfae6e2c8e71",
    "collapsed": false,
    "execution": {
     "iopub.execute_input": "2024-04-06T22:57:42.417211Z",
     "iopub.status.busy": "2024-04-06T22:57:42.416813Z",
     "iopub.status.idle": "2024-04-06T22:57:42.568627Z",
     "shell.execute_reply": "2024-04-06T22:57:42.567252Z"
    },
    "jupyter": {
     "outputs_hidden": false
    },
    "papermill": {
     "duration": 0.17687,
     "end_time": "2024-04-06T22:57:42.571110",
     "exception": false,
     "start_time": "2024-04-06T22:57:42.394240",
     "status": "completed"
    },
    "tags": []
   },
   "outputs": [],
   "source": [
    "# mapping autism and aspergers into one label, sincwe aspergers is classified into the autism spectrum disorder (ASD), and it will allow the\n",
    "# data to be more balanced for the autism label\n",
    "final_df['subreddit'] = final_df['subreddit'].map(lambda x: x if x not in ['aspergers', 'autism'] else 'autism')"
   ]
  },
  {
   "cell_type": "code",
   "execution_count": 15,
   "id": "bed474a8",
   "metadata": {
    "_cell_guid": "09b700f3-4cfd-453d-b335-8e548572012c",
    "_uuid": "f6b65af6-5d58-47c5-b080-5ae698f1eff6",
    "collapsed": false,
    "execution": {
     "iopub.execute_input": "2024-04-06T22:57:42.615098Z",
     "iopub.status.busy": "2024-04-06T22:57:42.614680Z",
     "iopub.status.idle": "2024-04-06T22:57:42.760462Z",
     "shell.execute_reply": "2024-04-06T22:57:42.759430Z"
    },
    "jupyter": {
     "outputs_hidden": false
    },
    "papermill": {
     "duration": 0.17077,
     "end_time": "2024-04-06T22:57:42.763065",
     "exception": false,
     "start_time": "2024-04-06T22:57:42.592295",
     "status": "completed"
    },
    "tags": []
   },
   "outputs": [],
   "source": [
    "# converting EDAnonymous to easting-disorder for easier understanding\n",
    "final_df['subreddit'] = final_df['subreddit'].map(lambda x: x if x != 'EDAnonymous' else 'eating-disorder')"
   ]
  },
  {
   "cell_type": "code",
   "execution_count": 16,
   "id": "31b4195c",
   "metadata": {
    "_cell_guid": "57724f9f-1f23-45fa-b1e2-c9036cc18561",
    "_uuid": "ffabb34b-3b3d-4c01-bffe-7f26d0fe4a39",
    "collapsed": false,
    "execution": {
     "iopub.execute_input": "2024-04-06T22:57:42.806956Z",
     "iopub.status.busy": "2024-04-06T22:57:42.806328Z",
     "iopub.status.idle": "2024-04-06T22:57:43.038860Z",
     "shell.execute_reply": "2024-04-06T22:57:43.037000Z"
    },
    "jupyter": {
     "outputs_hidden": false
    },
    "papermill": {
     "duration": 0.257815,
     "end_time": "2024-04-06T22:57:43.041853",
     "exception": false,
     "start_time": "2024-04-06T22:57:42.784038",
     "status": "completed"
    },
    "tags": []
   },
   "outputs": [],
   "source": [
    "# converting all control subreddits into a no mental disorder class\n",
    "final_df['subreddit'] = final_df['subreddit'].map(lambda x: x if x in MENTAL_DISORDER_LABELS else NEUTRAL_MENTAL_DISORDER)"
   ]
  },
  {
   "cell_type": "code",
   "execution_count": 17,
   "id": "2e904e0b",
   "metadata": {
    "_cell_guid": "d7aa8a40-8b59-482a-b072-a50d8d8de94c",
    "_uuid": "248b9132-87cc-4302-a0b3-078e726d6a14",
    "collapsed": false,
    "execution": {
     "iopub.execute_input": "2024-04-06T22:57:43.097597Z",
     "iopub.status.busy": "2024-04-06T22:57:43.097211Z",
     "iopub.status.idle": "2024-04-06T22:57:43.832675Z",
     "shell.execute_reply": "2024-04-06T22:57:43.830901Z"
    },
    "jupyter": {
     "outputs_hidden": false
    },
    "papermill": {
     "duration": 0.768953,
     "end_time": "2024-04-06T22:57:43.835849",
     "exception": false,
     "start_time": "2024-04-06T22:57:43.066896",
     "status": "completed"
    },
    "tags": []
   },
   "outputs": [
    {
     "data": {
      "text/plain": [
       "(860797, 862226, 25592)"
      ]
     },
     "execution_count": 17,
     "metadata": {},
     "output_type": "execute_result"
    }
   ],
   "source": [
    "# counting NaN values and deleted reddit posts\n",
    "len(final_df.dropna()), len(final_df), len(final_df.query(\"'[deleted]' in post or '[removed]' in post and subreddit != 'legaladvice'\"))"
   ]
  },
  {
   "cell_type": "code",
   "execution_count": 18,
   "id": "4fabd47b",
   "metadata": {
    "_cell_guid": "ca7b2a5d-b9b5-4453-9c23-384b9675befb",
    "_uuid": "a4e971a8-15d5-486f-b607-5e5ef14cfb8f",
    "collapsed": false,
    "execution": {
     "iopub.execute_input": "2024-04-06T22:57:43.881059Z",
     "iopub.status.busy": "2024-04-06T22:57:43.880696Z",
     "iopub.status.idle": "2024-04-06T22:57:44.751742Z",
     "shell.execute_reply": "2024-04-06T22:57:44.750241Z"
    },
    "jupyter": {
     "outputs_hidden": false
    },
    "papermill": {
     "duration": 0.896968,
     "end_time": "2024-04-06T22:57:44.754629",
     "exception": false,
     "start_time": "2024-04-06T22:57:43.857661",
     "status": "completed"
    },
    "tags": []
   },
   "outputs": [
    {
     "data": {
      "text/plain": [
       "(835205, 835205, 0)"
      ]
     },
     "execution_count": 18,
     "metadata": {},
     "output_type": "execute_result"
    }
   ],
   "source": [
    "# removing NaNs, removed/deleted posts\n",
    "final_df = final_df.dropna()\n",
    "final_df = final_df.query(\"'[deleted]' not in post and '[removed]' not in post and subreddit != 'legaladvice'\")\n",
    "# removing addiction topics\n",
    "final_df = final_df[final_df['subreddit'] != 'addiction']\n",
    "len(final_df.dropna()), len(final_df), len(final_df.query(\"'[deleted]' in post or '[removed]' in post or subreddit == 'legaladvice'\"))"
   ]
  },
  {
   "cell_type": "markdown",
   "id": "d79fbeff",
   "metadata": {
    "_cell_guid": "a54ea63e-3dc4-4437-b43f-0cf285dbad0f",
    "_uuid": "316e6908-1395-4e56-93a9-97c3c02f22b6",
    "papermill": {
     "duration": 0.02168,
     "end_time": "2024-04-06T22:57:44.797650",
     "exception": false,
     "start_time": "2024-04-06T22:57:44.775970",
     "status": "completed"
    },
    "tags": []
   },
   "source": [
    "# Getting random text samples for each label"
   ]
  },
  {
   "cell_type": "code",
   "execution_count": 19,
   "id": "62fd0249",
   "metadata": {
    "_cell_guid": "c80d19e2-3556-45d1-a164-3207a031566d",
    "_uuid": "cfe19ae3-cd91-4640-8cee-312f9f722777",
    "collapsed": false,
    "execution": {
     "iopub.execute_input": "2024-04-06T22:57:44.842858Z",
     "iopub.status.busy": "2024-04-06T22:57:44.842471Z",
     "iopub.status.idle": "2024-04-06T22:57:44.849140Z",
     "shell.execute_reply": "2024-04-06T22:57:44.847966Z"
    },
    "jupyter": {
     "outputs_hidden": false
    },
    "papermill": {
     "duration": 0.03184,
     "end_time": "2024-04-06T22:57:44.851576",
     "exception": false,
     "start_time": "2024-04-06T22:57:44.819736",
     "status": "completed"
    },
    "tags": []
   },
   "outputs": [],
   "source": [
    "def random_samples(df: pd.DataFrame, label_field: str = 'subreddit', text_field: str = 'post', n: int = 5):\n",
    "    \n",
    "    categories = df[label_field].unique()\n",
    "    \n",
    "    for ctg in categories:\n",
    "        sample = df[df[label_field] == ctg].sample(n=n)\n",
    "        pprint(f'CATEGORY: {ctg}')\n",
    "        for row in sample['post']:\n",
    "            pprint(row)\n",
    "            print()\n",
    "            print('-' * 20)\n",
    "            print('-' * 20)\n",
    "            print()"
   ]
  },
  {
   "cell_type": "code",
   "execution_count": 20,
   "id": "e71d0584",
   "metadata": {
    "_cell_guid": "11ef3739-6ff6-4b6f-b310-d29ea2c1c587",
    "_uuid": "f89b4b93-c5ba-4fd3-a3ab-9bf0888adbbd",
    "collapsed": false,
    "execution": {
     "iopub.execute_input": "2024-04-06T22:57:44.898914Z",
     "iopub.status.busy": "2024-04-06T22:57:44.898429Z",
     "iopub.status.idle": "2024-04-06T22:57:44.903383Z",
     "shell.execute_reply": "2024-04-06T22:57:44.902444Z"
    },
    "jupyter": {
     "outputs_hidden": false
    },
    "papermill": {
     "duration": 0.031802,
     "end_time": "2024-04-06T22:57:44.905990",
     "exception": false,
     "start_time": "2024-04-06T22:57:44.874188",
     "status": "completed"
    },
    "tags": []
   },
   "outputs": [],
   "source": [
    "# random_samples(final_df, n=1)"
   ]
  },
  {
   "cell_type": "code",
   "execution_count": 21,
   "id": "575e558b",
   "metadata": {
    "_cell_guid": "7ac86a63-da11-462b-abb0-844ebad185ea",
    "_uuid": "72bf7660-99de-429d-ae0b-1305091c355f",
    "collapsed": false,
    "execution": {
     "iopub.execute_input": "2024-04-06T22:57:44.956026Z",
     "iopub.status.busy": "2024-04-06T22:57:44.955375Z",
     "iopub.status.idle": "2024-04-06T22:57:44.959941Z",
     "shell.execute_reply": "2024-04-06T22:57:44.958421Z"
    },
    "jupyter": {
     "outputs_hidden": false
    },
    "papermill": {
     "duration": 0.035033,
     "end_time": "2024-04-06T22:57:44.962488",
     "exception": false,
     "start_time": "2024-04-06T22:57:44.927455",
     "status": "completed"
    },
    "tags": []
   },
   "outputs": [],
   "source": [
    "# full_df = pd.read_csv('/kaggle/input/mental-disorder-dataset-analysis/cleaned_data.csv')"
   ]
  },
  {
   "cell_type": "code",
   "execution_count": 22,
   "id": "b482750c",
   "metadata": {
    "_cell_guid": "c7f9ef1d-0d66-432c-979d-66aff4109d6d",
    "_uuid": "5b010da1-e8f6-4a8b-b00e-1e413124ce8b",
    "collapsed": false,
    "execution": {
     "iopub.execute_input": "2024-04-06T22:57:45.009115Z",
     "iopub.status.busy": "2024-04-06T22:57:45.008413Z",
     "iopub.status.idle": "2024-04-06T22:57:45.018975Z",
     "shell.execute_reply": "2024-04-06T22:57:45.017390Z"
    },
    "jupyter": {
     "outputs_hidden": false
    },
    "papermill": {
     "duration": 0.036713,
     "end_time": "2024-04-06T22:57:45.021607",
     "exception": false,
     "start_time": "2024-04-06T22:57:44.984894",
     "status": "completed"
    },
    "tags": []
   },
   "outputs": [
    {
     "data": {
      "text/html": [
       "<div>\n",
       "<style scoped>\n",
       "    .dataframe tbody tr th:only-of-type {\n",
       "        vertical-align: middle;\n",
       "    }\n",
       "\n",
       "    .dataframe tbody tr th {\n",
       "        vertical-align: top;\n",
       "    }\n",
       "\n",
       "    .dataframe thead th {\n",
       "        text-align: right;\n",
       "    }\n",
       "</style>\n",
       "<table border=\"1\" class=\"dataframe\">\n",
       "  <thead>\n",
       "    <tr style=\"text-align: right;\">\n",
       "      <th></th>\n",
       "      <th>subreddit</th>\n",
       "      <th>post</th>\n",
       "    </tr>\n",
       "  </thead>\n",
       "  <tbody>\n",
       "    <tr>\n",
       "      <th>0</th>\n",
       "      <td>no-mental-disorder</td>\n",
       "      <td>Parents who don’t fully cover their kids in th...</td>\n",
       "    </tr>\n",
       "    <tr>\n",
       "      <th>1</th>\n",
       "      <td>no-mental-disorder</td>\n",
       "      <td>Help advice needed asap 4yo stomach ache/const...</td>\n",
       "    </tr>\n",
       "    <tr>\n",
       "      <th>2</th>\n",
       "      <td>no-mental-disorder</td>\n",
       "      <td>It will be 13 degrees (F) out in the morning. ...</td>\n",
       "    </tr>\n",
       "    <tr>\n",
       "      <th>3</th>\n",
       "      <td>no-mental-disorder</td>\n",
       "      <td>Just a rant about kids and social media... The...</td>\n",
       "    </tr>\n",
       "    <tr>\n",
       "      <th>4</th>\n",
       "      <td>no-mental-disorder</td>\n",
       "      <td>Potty Training a Tyrannical Camel My daughter ...</td>\n",
       "    </tr>\n",
       "    <tr>\n",
       "      <th>...</th>\n",
       "      <td>...</td>\n",
       "      <td>...</td>\n",
       "    </tr>\n",
       "    <tr>\n",
       "      <th>23285</th>\n",
       "      <td>autism</td>\n",
       "      <td>I never disclose it. There’s too much stigma w...</td>\n",
       "    </tr>\n",
       "    <tr>\n",
       "      <th>23286</th>\n",
       "      <td>autism</td>\n",
       "      <td>I've read that its a big deal among aspies but...</td>\n",
       "    </tr>\n",
       "    <tr>\n",
       "      <th>23287</th>\n",
       "      <td>autism</td>\n",
       "      <td>All the time as a kid I was told by the adults...</td>\n",
       "    </tr>\n",
       "    <tr>\n",
       "      <th>23292</th>\n",
       "      <td>autism</td>\n",
       "      <td>I’m aware of trainspotting and its association...</td>\n",
       "    </tr>\n",
       "    <tr>\n",
       "      <th>23293</th>\n",
       "      <td>autism</td>\n",
       "      <td>I skateboard and sometimes bike. I want to hea...</td>\n",
       "    </tr>\n",
       "  </tbody>\n",
       "</table>\n",
       "<p>835205 rows × 2 columns</p>\n",
       "</div>"
      ],
      "text/plain": [
       "                subreddit                                               post\n",
       "0      no-mental-disorder  Parents who don’t fully cover their kids in th...\n",
       "1      no-mental-disorder  Help advice needed asap 4yo stomach ache/const...\n",
       "2      no-mental-disorder  It will be 13 degrees (F) out in the morning. ...\n",
       "3      no-mental-disorder  Just a rant about kids and social media... The...\n",
       "4      no-mental-disorder  Potty Training a Tyrannical Camel My daughter ...\n",
       "...                   ...                                                ...\n",
       "23285              autism  I never disclose it. There’s too much stigma w...\n",
       "23286              autism  I've read that its a big deal among aspies but...\n",
       "23287              autism  All the time as a kid I was told by the adults...\n",
       "23292              autism  I’m aware of trainspotting and its association...\n",
       "23293              autism  I skateboard and sometimes bike. I want to hea...\n",
       "\n",
       "[835205 rows x 2 columns]"
      ]
     },
     "execution_count": 22,
     "metadata": {},
     "output_type": "execute_result"
    }
   ],
   "source": [
    "# full_df = pd.read_csv('', index_col=False)\n",
    "# full_df = full_df.drop(columns=['Unnamed: 0'])\n",
    "final_df"
   ]
  },
  {
   "cell_type": "markdown",
   "id": "4b462193",
   "metadata": {
    "_cell_guid": "c57d2d2b-8948-4401-bdce-8a45f0449fd4",
    "_uuid": "796bad78-6377-4f75-9c5a-02bb4b94130f",
    "papermill": {
     "duration": 0.021998,
     "end_time": "2024-04-06T22:57:45.067300",
     "exception": false,
     "start_time": "2024-04-06T22:57:45.045302",
     "status": "completed"
    },
    "tags": []
   },
   "source": [
    "# load the sentiment analysis dataset\n",
    "loading the dataset used for the model that performs overcall sentiment classification, as well as words matching that sentiment"
   ]
  },
  {
   "cell_type": "code",
   "execution_count": 23,
   "id": "acaead26",
   "metadata": {
    "_cell_guid": "254e832d-f980-417b-9340-33ec556b8916",
    "_uuid": "b0baaf32-df12-435d-bf60-3580c1a84e0f",
    "collapsed": false,
    "execution": {
     "iopub.execute_input": "2024-04-06T22:57:45.118327Z",
     "iopub.status.busy": "2024-04-06T22:57:45.117418Z",
     "iopub.status.idle": "2024-04-06T22:57:45.123427Z",
     "shell.execute_reply": "2024-04-06T22:57:45.121891Z"
    },
    "jupyter": {
     "outputs_hidden": false
    },
    "papermill": {
     "duration": 0.032955,
     "end_time": "2024-04-06T22:57:45.126214",
     "exception": false,
     "start_time": "2024-04-06T22:57:45.093259",
     "status": "completed"
    },
    "tags": []
   },
   "outputs": [],
   "source": [
    "SENT_FIELDS = ['text', 'sentiment']"
   ]
  },
  {
   "cell_type": "code",
   "execution_count": 24,
   "id": "782cd6e1",
   "metadata": {
    "_cell_guid": "ce0d7500-cb83-47c1-a8a1-af2e1adbc91c",
    "_uuid": "29319ff3-a380-49bc-b734-014de396313c",
    "collapsed": false,
    "execution": {
     "iopub.execute_input": "2024-04-06T22:57:45.171377Z",
     "iopub.status.busy": "2024-04-06T22:57:45.170960Z",
     "iopub.status.idle": "2024-04-06T22:57:45.285620Z",
     "shell.execute_reply": "2024-04-06T22:57:45.284108Z"
    },
    "jupyter": {
     "outputs_hidden": false
    },
    "papermill": {
     "duration": 0.140442,
     "end_time": "2024-04-06T22:57:45.288437",
     "exception": false,
     "start_time": "2024-04-06T22:57:45.147995",
     "status": "completed"
    },
    "tags": []
   },
   "outputs": [],
   "source": [
    "sent_df_train = pd.read_csv('/kaggle/input/tweet-sentiment-extraction/train.csv')\n",
    "sent_df_test = pd.read_csv('/kaggle/input/tweet-sentiment-extraction/test.csv')"
   ]
  },
  {
   "cell_type": "code",
   "execution_count": 25,
   "id": "715c0295",
   "metadata": {
    "_cell_guid": "dd59d89b-bd70-4b86-965b-82a4b6f155dc",
    "_uuid": "581d9830-ff65-45f2-9a43-43c4d44e323b",
    "collapsed": false,
    "execution": {
     "iopub.execute_input": "2024-04-06T22:57:45.333504Z",
     "iopub.status.busy": "2024-04-06T22:57:45.332954Z",
     "iopub.status.idle": "2024-04-06T22:57:45.346978Z",
     "shell.execute_reply": "2024-04-06T22:57:45.345672Z"
    },
    "jupyter": {
     "outputs_hidden": false
    },
    "papermill": {
     "duration": 0.038833,
     "end_time": "2024-04-06T22:57:45.348879",
     "exception": false,
     "start_time": "2024-04-06T22:57:45.310046",
     "status": "completed"
    },
    "tags": []
   },
   "outputs": [
    {
     "data": {
      "text/html": [
       "<div>\n",
       "<style scoped>\n",
       "    .dataframe tbody tr th:only-of-type {\n",
       "        vertical-align: middle;\n",
       "    }\n",
       "\n",
       "    .dataframe tbody tr th {\n",
       "        vertical-align: top;\n",
       "    }\n",
       "\n",
       "    .dataframe thead th {\n",
       "        text-align: right;\n",
       "    }\n",
       "</style>\n",
       "<table border=\"1\" class=\"dataframe\">\n",
       "  <thead>\n",
       "    <tr style=\"text-align: right;\">\n",
       "      <th></th>\n",
       "      <th>text</th>\n",
       "      <th>sentiment</th>\n",
       "    </tr>\n",
       "  </thead>\n",
       "  <tbody>\n",
       "    <tr>\n",
       "      <th>0</th>\n",
       "      <td>I`d have responded, if I were going</td>\n",
       "      <td>neutral</td>\n",
       "    </tr>\n",
       "    <tr>\n",
       "      <th>1</th>\n",
       "      <td>Sooo SAD I will miss you here in San Diego!!!</td>\n",
       "      <td>negative</td>\n",
       "    </tr>\n",
       "    <tr>\n",
       "      <th>2</th>\n",
       "      <td>my boss is bullying me...</td>\n",
       "      <td>negative</td>\n",
       "    </tr>\n",
       "    <tr>\n",
       "      <th>3</th>\n",
       "      <td>what interview! leave me alone</td>\n",
       "      <td>negative</td>\n",
       "    </tr>\n",
       "    <tr>\n",
       "      <th>4</th>\n",
       "      <td>Sons of ****, why couldn`t they put them on t...</td>\n",
       "      <td>negative</td>\n",
       "    </tr>\n",
       "    <tr>\n",
       "      <th>...</th>\n",
       "      <td>...</td>\n",
       "      <td>...</td>\n",
       "    </tr>\n",
       "    <tr>\n",
       "      <th>27476</th>\n",
       "      <td>wish we could come see u on Denver  husband l...</td>\n",
       "      <td>negative</td>\n",
       "    </tr>\n",
       "    <tr>\n",
       "      <th>27477</th>\n",
       "      <td>I`ve wondered about rake to.  The client has ...</td>\n",
       "      <td>negative</td>\n",
       "    </tr>\n",
       "    <tr>\n",
       "      <th>27478</th>\n",
       "      <td>Yay good for both of you. Enjoy the break - y...</td>\n",
       "      <td>positive</td>\n",
       "    </tr>\n",
       "    <tr>\n",
       "      <th>27479</th>\n",
       "      <td>But it was worth it  ****.</td>\n",
       "      <td>positive</td>\n",
       "    </tr>\n",
       "    <tr>\n",
       "      <th>27480</th>\n",
       "      <td>All this flirting going on - The ATG smiles...</td>\n",
       "      <td>neutral</td>\n",
       "    </tr>\n",
       "  </tbody>\n",
       "</table>\n",
       "<p>27481 rows × 2 columns</p>\n",
       "</div>"
      ],
      "text/plain": [
       "                                                    text sentiment\n",
       "0                    I`d have responded, if I were going   neutral\n",
       "1          Sooo SAD I will miss you here in San Diego!!!  negative\n",
       "2                              my boss is bullying me...  negative\n",
       "3                         what interview! leave me alone  negative\n",
       "4       Sons of ****, why couldn`t they put them on t...  negative\n",
       "...                                                  ...       ...\n",
       "27476   wish we could come see u on Denver  husband l...  negative\n",
       "27477   I`ve wondered about rake to.  The client has ...  negative\n",
       "27478   Yay good for both of you. Enjoy the break - y...  positive\n",
       "27479                         But it was worth it  ****.  positive\n",
       "27480     All this flirting going on - The ATG smiles...   neutral\n",
       "\n",
       "[27481 rows x 2 columns]"
      ]
     },
     "execution_count": 25,
     "metadata": {},
     "output_type": "execute_result"
    }
   ],
   "source": [
    "# keeping only the txt and sentiment columns\n",
    "sent_df_train = sent_df_train[SENT_FIELDS]\n",
    "sent_df_test = sent_df_test[SENT_FIELDS]\n",
    "sent_df_train"
   ]
  },
  {
   "cell_type": "markdown",
   "id": "b457b405",
   "metadata": {
    "_cell_guid": "f460c3e7-5e54-409f-98a6-b81ee38500a2",
    "_uuid": "708f7e3a-cdc6-4e62-927b-6be26c2b848b",
    "papermill": {
     "duration": 0.020994,
     "end_time": "2024-04-06T22:57:45.391132",
     "exception": false,
     "start_time": "2024-04-06T22:57:45.370138",
     "status": "completed"
    },
    "tags": []
   },
   "source": [
    "# Data analysis for mental disorder classification"
   ]
  },
  {
   "cell_type": "code",
   "execution_count": 26,
   "id": "276bb950",
   "metadata": {
    "_cell_guid": "4cd521b9-80ff-4aeb-94c3-94c7807d0be3",
    "_uuid": "dbbac99a-0872-42e5-8020-2eb560569c03",
    "collapsed": false,
    "execution": {
     "iopub.execute_input": "2024-04-06T22:57:45.436319Z",
     "iopub.status.busy": "2024-04-06T22:57:45.435969Z",
     "iopub.status.idle": "2024-04-06T22:57:45.786022Z",
     "shell.execute_reply": "2024-04-06T22:57:45.785132Z"
    },
    "jupyter": {
     "outputs_hidden": false
    },
    "papermill": {
     "duration": 0.375125,
     "end_time": "2024-04-06T22:57:45.788044",
     "exception": false,
     "start_time": "2024-04-06T22:57:45.412919",
     "status": "completed"
    },
    "tags": []
   },
   "outputs": [
    {
     "data": {
      "image/png": "[encoded data removed]",
      "text/plain": [
       "<Figure size 960x960 with 1 Axes>"
      ]
     },
     "metadata": {},
     "output_type": "display_data"
    }
   ],
   "source": [
    "# distribution of labels (reddit conversations)\n",
    "from matplotlib.pyplot import figure\n",
    "\n",
    "def plot_class_dist(df: pd.DataFrame, col: str, title: str = 'distribution'):\n",
    "    figure(figsize=(12, 12), dpi=80)\n",
    "\n",
    "    counts = df[col].value_counts()\n",
    "    # Create a pie chart\n",
    "    counts.plot.pie(autopct=\"%1.1f%%\")  # Add percentages to slices\n",
    "    plt.title(title)\n",
    "    plt.show()\n",
    "    \n",
    "plot_class_dist(final_df, col='subreddit', title = \"Mental disorder class distribution\")"
   ]
  },
  {
   "cell_type": "code",
   "execution_count": 27,
   "id": "ea73026a",
   "metadata": {
    "_cell_guid": "f65038f3-cdb4-462e-8af1-ab6606d6a182",
    "_uuid": "c8d3dc2f-3936-48a5-bfe4-53fa78317571",
    "collapsed": false,
    "execution": {
     "iopub.execute_input": "2024-04-06T22:57:45.835651Z",
     "iopub.status.busy": "2024-04-06T22:57:45.835288Z",
     "iopub.status.idle": "2024-04-06T22:58:05.536027Z",
     "shell.execute_reply": "2024-04-06T22:58:05.534933Z"
    },
    "jupyter": {
     "outputs_hidden": false
    },
    "papermill": {
     "duration": 19.727775,
     "end_time": "2024-04-06T22:58:05.538585",
     "exception": false,
     "start_time": "2024-04-06T22:57:45.810810",
     "status": "completed"
    },
    "tags": []
   },
   "outputs": [
    {
     "data": {
      "text/html": [
       "<div>\n",
       "<style scoped>\n",
       "    .dataframe tbody tr th:only-of-type {\n",
       "        vertical-align: middle;\n",
       "    }\n",
       "\n",
       "    .dataframe tbody tr th {\n",
       "        vertical-align: top;\n",
       "    }\n",
       "\n",
       "    .dataframe thead th {\n",
       "        text-align: right;\n",
       "    }\n",
       "</style>\n",
       "<table border=\"1\" class=\"dataframe\">\n",
       "  <thead>\n",
       "    <tr style=\"text-align: right;\">\n",
       "      <th></th>\n",
       "      <th>subreddit</th>\n",
       "      <th>post</th>\n",
       "      <th>sentence_len</th>\n",
       "    </tr>\n",
       "  </thead>\n",
       "  <tbody>\n",
       "    <tr>\n",
       "      <th>0</th>\n",
       "      <td>no-mental-disorder</td>\n",
       "      <td>Parents who don’t fully cover their kids in th...</td>\n",
       "      <td>75</td>\n",
       "    </tr>\n",
       "    <tr>\n",
       "      <th>1</th>\n",
       "      <td>no-mental-disorder</td>\n",
       "      <td>Help advice needed asap 4yo stomach ache/const...</td>\n",
       "      <td>162</td>\n",
       "    </tr>\n",
       "    <tr>\n",
       "      <th>2</th>\n",
       "      <td>no-mental-disorder</td>\n",
       "      <td>It will be 13 degrees (F) out in the morning. ...</td>\n",
       "      <td>88</td>\n",
       "    </tr>\n",
       "    <tr>\n",
       "      <th>3</th>\n",
       "      <td>no-mental-disorder</td>\n",
       "      <td>Just a rant about kids and social media... The...</td>\n",
       "      <td>137</td>\n",
       "    </tr>\n",
       "    <tr>\n",
       "      <th>4</th>\n",
       "      <td>no-mental-disorder</td>\n",
       "      <td>Potty Training a Tyrannical Camel My daughter ...</td>\n",
       "      <td>396</td>\n",
       "    </tr>\n",
       "    <tr>\n",
       "      <th>...</th>\n",
       "      <td>...</td>\n",
       "      <td>...</td>\n",
       "      <td>...</td>\n",
       "    </tr>\n",
       "    <tr>\n",
       "      <th>23285</th>\n",
       "      <td>autism</td>\n",
       "      <td>I never disclose it. There’s too much stigma w...</td>\n",
       "      <td>228</td>\n",
       "    </tr>\n",
       "    <tr>\n",
       "      <th>23286</th>\n",
       "      <td>autism</td>\n",
       "      <td>I've read that its a big deal among aspies but...</td>\n",
       "      <td>88</td>\n",
       "    </tr>\n",
       "    <tr>\n",
       "      <th>23287</th>\n",
       "      <td>autism</td>\n",
       "      <td>All the time as a kid I was told by the adults...</td>\n",
       "      <td>130</td>\n",
       "    </tr>\n",
       "    <tr>\n",
       "      <th>23292</th>\n",
       "      <td>autism</td>\n",
       "      <td>I’m aware of trainspotting and its association...</td>\n",
       "      <td>465</td>\n",
       "    </tr>\n",
       "    <tr>\n",
       "      <th>23293</th>\n",
       "      <td>autism</td>\n",
       "      <td>I skateboard and sometimes bike. I want to hea...</td>\n",
       "      <td>15</td>\n",
       "    </tr>\n",
       "  </tbody>\n",
       "</table>\n",
       "<p>835205 rows × 3 columns</p>\n",
       "</div>"
      ],
      "text/plain": [
       "                subreddit                                               post  \\\n",
       "0      no-mental-disorder  Parents who don’t fully cover their kids in th...   \n",
       "1      no-mental-disorder  Help advice needed asap 4yo stomach ache/const...   \n",
       "2      no-mental-disorder  It will be 13 degrees (F) out in the morning. ...   \n",
       "3      no-mental-disorder  Just a rant about kids and social media... The...   \n",
       "4      no-mental-disorder  Potty Training a Tyrannical Camel My daughter ...   \n",
       "...                   ...                                                ...   \n",
       "23285              autism  I never disclose it. There’s too much stigma w...   \n",
       "23286              autism  I've read that its a big deal among aspies but...   \n",
       "23287              autism  All the time as a kid I was told by the adults...   \n",
       "23292              autism  I’m aware of trainspotting and its association...   \n",
       "23293              autism  I skateboard and sometimes bike. I want to hea...   \n",
       "\n",
       "       sentence_len  \n",
       "0                75  \n",
       "1               162  \n",
       "2                88  \n",
       "3               137  \n",
       "4               396  \n",
       "...             ...  \n",
       "23285           228  \n",
       "23286            88  \n",
       "23287           130  \n",
       "23292           465  \n",
       "23293            15  \n",
       "\n",
       "[835205 rows x 3 columns]"
      ]
     },
     "execution_count": 27,
     "metadata": {},
     "output_type": "execute_result"
    }
   ],
   "source": [
    "# getting the average length of the reddit post\n",
    "final_df['sentence_len'] = final_df['post'].str.split().apply(len)\n",
    "final_df"
   ]
  },
  {
   "cell_type": "code",
   "execution_count": 28,
   "id": "ddb8077d",
   "metadata": {
    "_cell_guid": "340ef555-868e-4a20-b980-ddb9dcba8c5b",
    "_uuid": "5cea4ec2-1995-4733-b409-15c2d8ff9444",
    "collapsed": false,
    "execution": {
     "iopub.execute_input": "2024-04-06T22:58:05.592153Z",
     "iopub.status.busy": "2024-04-06T22:58:05.591394Z",
     "iopub.status.idle": "2024-04-06T22:58:05.769430Z",
     "shell.execute_reply": "2024-04-06T22:58:05.768429Z"
    },
    "jupyter": {
     "outputs_hidden": false
    },
    "papermill": {
     "duration": 0.206567,
     "end_time": "2024-04-06T22:58:05.771996",
     "exception": false,
     "start_time": "2024-04-06T22:58:05.565429",
     "status": "completed"
    },
    "tags": []
   },
   "outputs": [
    {
     "name": "stdout",
     "output_type": "stream",
     "text": [
      "<class 'pandas.core.frame.DataFrame'>\n",
      "Index: 835205 entries, 0 to 23293\n",
      "Data columns (total 3 columns):\n",
      " #   Column        Non-Null Count   Dtype \n",
      "---  ------        --------------   ----- \n",
      " 0   subreddit     835205 non-null  object\n",
      " 1   post          835205 non-null  object\n",
      " 2   sentence_len  835205 non-null  int64 \n",
      "dtypes: int64(1), object(2)\n",
      "memory usage: 25.5+ MB\n"
     ]
    }
   ],
   "source": [
    "final_df.info(verbose=True)"
   ]
  },
  {
   "cell_type": "code",
   "execution_count": 29,
   "id": "ce028697",
   "metadata": {
    "_cell_guid": "95b21914-a80c-4ad7-a606-63623913c3a3",
    "_uuid": "d6d84e2a-e31b-4ed2-a625-400ca5df2ba6",
    "collapsed": false,
    "execution": {
     "iopub.execute_input": "2024-04-06T22:58:05.821156Z",
     "iopub.status.busy": "2024-04-06T22:58:05.820108Z",
     "iopub.status.idle": "2024-04-06T22:58:05.826831Z",
     "shell.execute_reply": "2024-04-06T22:58:05.825322Z"
    },
    "jupyter": {
     "outputs_hidden": false
    },
    "papermill": {
     "duration": 0.034388,
     "end_time": "2024-04-06T22:58:05.829580",
     "exception": false,
     "start_time": "2024-04-06T22:58:05.795192",
     "status": "completed"
    },
    "tags": []
   },
   "outputs": [],
   "source": [
    "def plot_hist(df: pd.DataFrame, col: str):\n",
    "    plt.figure(figsize=(8, 6))  # Adjust figure size for better visualization\n",
    "    df[col].hist(bins=100)\n",
    "    plt.xlabel('Values')\n",
    "    plt.ylabel('Frequency')\n",
    "    plt.title('Histogram of Values (Binned)')\n",
    "    plt.grid(axis='y')  # Add gridlines for better readability\n",
    "    plt.show()"
   ]
  },
  {
   "cell_type": "code",
   "execution_count": 30,
   "id": "d84f7b04",
   "metadata": {
    "_cell_guid": "1fc8110d-47ea-4ece-a784-0a3e20a572f9",
    "_uuid": "0882c6f3-e065-4a31-a467-8de8143d6447",
    "collapsed": false,
    "execution": {
     "iopub.execute_input": "2024-04-06T22:58:05.878648Z",
     "iopub.status.busy": "2024-04-06T22:58:05.878297Z",
     "iopub.status.idle": "2024-04-06T22:58:06.214313Z",
     "shell.execute_reply": "2024-04-06T22:58:06.212946Z"
    },
    "jupyter": {
     "outputs_hidden": false
    },
    "papermill": {
     "duration": 0.362781,
     "end_time": "2024-04-06T22:58:06.216496",
     "exception": false,
     "start_time": "2024-04-06T22:58:05.853715",
     "status": "completed"
    },
    "tags": []
   },
   "outputs": [
    {
     "data": {
      "image/png": "[encoded data removed]",
      "text/plain": [
       "<Figure size 800x600 with 1 Axes>"
      ]
     },
     "metadata": {},
     "output_type": "display_data"
    }
   ],
   "source": [
    "## plotting the distribution of the sentence length\n",
    "\n",
    "plot_hist(final_df, 'sentence_len')"
   ]
  },
  {
   "cell_type": "code",
   "execution_count": 31,
   "id": "b7c743e9",
   "metadata": {
    "_cell_guid": "481232b7-215e-47ca-b041-cc6cef73b053",
    "_uuid": "8766b164-e9eb-4697-97b5-ec9e68b66223",
    "collapsed": false,
    "execution": {
     "iopub.execute_input": "2024-04-06T22:58:06.264048Z",
     "iopub.status.busy": "2024-04-06T22:58:06.263630Z",
     "iopub.status.idle": "2024-04-06T22:58:06.299994Z",
     "shell.execute_reply": "2024-04-06T22:58:06.298133Z"
    },
    "jupyter": {
     "outputs_hidden": false
    },
    "papermill": {
     "duration": 0.063352,
     "end_time": "2024-04-06T22:58:06.302739",
     "exception": false,
     "start_time": "2024-04-06T22:58:06.239387",
     "status": "completed"
    },
    "tags": []
   },
   "outputs": [
    {
     "data": {
      "text/html": [
       "<div>\n",
       "<style scoped>\n",
       "    .dataframe tbody tr th:only-of-type {\n",
       "        vertical-align: middle;\n",
       "    }\n",
       "\n",
       "    .dataframe tbody tr th {\n",
       "        vertical-align: top;\n",
       "    }\n",
       "\n",
       "    .dataframe thead th {\n",
       "        text-align: right;\n",
       "    }\n",
       "</style>\n",
       "<table border=\"1\" class=\"dataframe\">\n",
       "  <thead>\n",
       "    <tr style=\"text-align: right;\">\n",
       "      <th></th>\n",
       "      <th>sentence_len</th>\n",
       "    </tr>\n",
       "  </thead>\n",
       "  <tbody>\n",
       "    <tr>\n",
       "      <th>count</th>\n",
       "      <td>835205.000000</td>\n",
       "    </tr>\n",
       "    <tr>\n",
       "      <th>mean</th>\n",
       "      <td>156.475493</td>\n",
       "    </tr>\n",
       "    <tr>\n",
       "      <th>std</th>\n",
       "      <td>167.462950</td>\n",
       "    </tr>\n",
       "    <tr>\n",
       "      <th>min</th>\n",
       "      <td>1.000000</td>\n",
       "    </tr>\n",
       "    <tr>\n",
       "      <th>25%</th>\n",
       "      <td>55.000000</td>\n",
       "    </tr>\n",
       "    <tr>\n",
       "      <th>50%</th>\n",
       "      <td>111.000000</td>\n",
       "    </tr>\n",
       "    <tr>\n",
       "      <th>75%</th>\n",
       "      <td>201.000000</td>\n",
       "    </tr>\n",
       "    <tr>\n",
       "      <th>max</th>\n",
       "      <td>8403.000000</td>\n",
       "    </tr>\n",
       "  </tbody>\n",
       "</table>\n",
       "</div>"
      ],
      "text/plain": [
       "        sentence_len\n",
       "count  835205.000000\n",
       "mean      156.475493\n",
       "std       167.462950\n",
       "min         1.000000\n",
       "25%        55.000000\n",
       "50%       111.000000\n",
       "75%       201.000000\n",
       "max      8403.000000"
      ]
     },
     "execution_count": 31,
     "metadata": {},
     "output_type": "execute_result"
    }
   ],
   "source": [
    "# basic stats\n",
    "final_df.describe()"
   ]
  },
  {
   "cell_type": "code",
   "execution_count": 32,
   "id": "10255977",
   "metadata": {
    "_cell_guid": "aa5551f1-fa6d-42c2-947b-63df8027b490",
    "_uuid": "0cfc7ca1-41cf-4cf9-ab8f-ebe8e500792f",
    "collapsed": false,
    "execution": {
     "iopub.execute_input": "2024-04-06T22:58:06.353248Z",
     "iopub.status.busy": "2024-04-06T22:58:06.352800Z",
     "iopub.status.idle": "2024-04-06T22:58:06.448790Z",
     "shell.execute_reply": "2024-04-06T22:58:06.447356Z"
    },
    "jupyter": {
     "outputs_hidden": false
    },
    "papermill": {
     "duration": 0.124741,
     "end_time": "2024-04-06T22:58:06.450784",
     "exception": false,
     "start_time": "2024-04-06T22:58:06.326043",
     "status": "completed"
    },
    "tags": []
   },
   "outputs": [
    {
     "data": {
      "text/html": [
       "<div>\n",
       "<style scoped>\n",
       "    .dataframe tbody tr th:only-of-type {\n",
       "        vertical-align: middle;\n",
       "    }\n",
       "\n",
       "    .dataframe tbody tr th {\n",
       "        vertical-align: top;\n",
       "    }\n",
       "\n",
       "    .dataframe thead th {\n",
       "        text-align: right;\n",
       "    }\n",
       "</style>\n",
       "<table border=\"1\" class=\"dataframe\">\n",
       "  <thead>\n",
       "    <tr style=\"text-align: right;\">\n",
       "      <th></th>\n",
       "      <th>sentence_len</th>\n",
       "    </tr>\n",
       "  </thead>\n",
       "  <tbody>\n",
       "    <tr>\n",
       "      <th>count</th>\n",
       "      <td>561443.000000</td>\n",
       "    </tr>\n",
       "    <tr>\n",
       "      <th>mean</th>\n",
       "      <td>96.048612</td>\n",
       "    </tr>\n",
       "    <tr>\n",
       "      <th>std</th>\n",
       "      <td>49.666169</td>\n",
       "    </tr>\n",
       "    <tr>\n",
       "      <th>min</th>\n",
       "      <td>20.000000</td>\n",
       "    </tr>\n",
       "    <tr>\n",
       "      <th>25%</th>\n",
       "      <td>54.000000</td>\n",
       "    </tr>\n",
       "    <tr>\n",
       "      <th>50%</th>\n",
       "      <td>90.000000</td>\n",
       "    </tr>\n",
       "    <tr>\n",
       "      <th>75%</th>\n",
       "      <td>134.000000</td>\n",
       "    </tr>\n",
       "    <tr>\n",
       "      <th>max</th>\n",
       "      <td>201.000000</td>\n",
       "    </tr>\n",
       "  </tbody>\n",
       "</table>\n",
       "</div>"
      ],
      "text/plain": [
       "        sentence_len\n",
       "count  561443.000000\n",
       "mean       96.048612\n",
       "std        49.666169\n",
       "min        20.000000\n",
       "25%        54.000000\n",
       "50%        90.000000\n",
       "75%       134.000000\n",
       "max       201.000000"
      ]
     },
     "execution_count": 32,
     "metadata": {},
     "output_type": "execute_result"
    }
   ],
   "source": [
    "# cutting off  outliers\n",
    "q1 = final_df['sentence_len'].quantile(0.08)\n",
    "q3 = final_df['sentence_len'].quantile(0.75)\n",
    "\n",
    "cleaned_df = final_df.query('sentence_len >= @q1 and sentence_len <= @q3 ')\n",
    "cleaned_df.describe()"
   ]
  },
  {
   "cell_type": "code",
   "execution_count": 33,
   "id": "247f9538",
   "metadata": {
    "_cell_guid": "b709883d-b22d-4b1e-b5e3-4ee301541dd1",
    "_uuid": "0ff3acf8-6566-4ab5-a9f1-d11914982acd",
    "collapsed": false,
    "execution": {
     "iopub.execute_input": "2024-04-06T22:58:06.502752Z",
     "iopub.status.busy": "2024-04-06T22:58:06.502179Z",
     "iopub.status.idle": "2024-04-06T22:58:06.910938Z",
     "shell.execute_reply": "2024-04-06T22:58:06.909914Z"
    },
    "jupyter": {
     "outputs_hidden": false
    },
    "papermill": {
     "duration": 0.437089,
     "end_time": "2024-04-06T22:58:06.913054",
     "exception": false,
     "start_time": "2024-04-06T22:58:06.475965",
     "status": "completed"
    },
    "tags": []
   },
   "outputs": [
    {
     "data": {
      "image/png": "[encoded data removed]",
      "text/plain": [
       "<Figure size 800x600 with 1 Axes>"
      ]
     },
     "metadata": {},
     "output_type": "display_data"
    }
   ],
   "source": [
    "plot_hist(cleaned_df, 'sentence_len')"
   ]
  },
  {
   "cell_type": "code",
   "execution_count": 34,
   "id": "6f5a1f65",
   "metadata": {
    "_cell_guid": "23ea8e81-eb6b-4c88-824a-b62aef9942b0",
    "_uuid": "efc217d1-9ea1-4cd7-8612-95d780d16234",
    "collapsed": false,
    "execution": {
     "iopub.execute_input": "2024-04-06T22:58:06.967160Z",
     "iopub.status.busy": "2024-04-06T22:58:06.966511Z",
     "iopub.status.idle": "2024-04-06T22:58:07.222617Z",
     "shell.execute_reply": "2024-04-06T22:58:07.221748Z"
    },
    "jupyter": {
     "outputs_hidden": false
    },
    "papermill": {
     "duration": 0.285475,
     "end_time": "2024-04-06T22:58:07.225018",
     "exception": false,
     "start_time": "2024-04-06T22:58:06.939543",
     "status": "completed"
    },
    "tags": []
   },
   "outputs": [
    {
     "data": {
      "image/png": "[encoded data removed]",
      "text/plain": [
       "<Figure size 960x960 with 1 Axes>"
      ]
     },
     "metadata": {},
     "output_type": "display_data"
    }
   ],
   "source": [
    "plot_class_dist(cleaned_df, 'subreddit')"
   ]
  },
  {
   "cell_type": "code",
   "execution_count": 35,
   "id": "50bf3a79",
   "metadata": {
    "_cell_guid": "79492067-f45b-4f83-a72f-64b833228461",
    "_uuid": "76402ec2-73c2-475e-906e-8725b3f702b4",
    "collapsed": false,
    "execution": {
     "iopub.execute_input": "2024-04-06T22:58:07.287525Z",
     "iopub.status.busy": "2024-04-06T22:58:07.287104Z",
     "iopub.status.idle": "2024-04-06T22:58:13.842578Z",
     "shell.execute_reply": "2024-04-06T22:58:13.840754Z"
    },
    "jupyter": {
     "outputs_hidden": false
    },
    "papermill": {
     "duration": 6.587694,
     "end_time": "2024-04-06T22:58:13.845561",
     "exception": false,
     "start_time": "2024-04-06T22:58:07.257867",
     "status": "completed"
    },
    "tags": []
   },
   "outputs": [],
   "source": [
    "# final persistence of data after cropping out the quartiles\n",
    "cleaned_df.to_csv('/kaggle/working/processed_mental_disorders.csv')"
   ]
  },
  {
   "cell_type": "markdown",
   "id": "ed0fb2a5",
   "metadata": {
    "_cell_guid": "3ab6712e-b5c9-433e-8614-71f4de78e95d",
    "_uuid": "16b91a83-3f2b-4e20-9ee8-b9bf0df674d6",
    "papermill": {
     "duration": 0.029831,
     "end_time": "2024-04-06T22:58:13.905565",
     "exception": false,
     "start_time": "2024-04-06T22:58:13.875734",
     "status": "completed"
    },
    "tags": []
   },
   "source": [
    "# data analysis for the mental disorder classification"
   ]
  },
  {
   "cell_type": "code",
   "execution_count": 36,
   "id": "8400ddd1",
   "metadata": {
    "_cell_guid": "bfed19d3-61bc-48bf-a439-cc30abba0de0",
    "_uuid": "f2a8d035-88cb-43d1-b0a8-e48084d71502",
    "collapsed": false,
    "execution": {
     "iopub.execute_input": "2024-04-06T22:58:13.970763Z",
     "iopub.status.busy": "2024-04-06T22:58:13.969720Z",
     "iopub.status.idle": "2024-04-06T22:58:14.129856Z",
     "shell.execute_reply": "2024-04-06T22:58:14.128626Z"
    },
    "jupyter": {
     "outputs_hidden": false
    },
    "papermill": {
     "duration": 0.195652,
     "end_time": "2024-04-06T22:58:14.132463",
     "exception": false,
     "start_time": "2024-04-06T22:58:13.936811",
     "status": "completed"
    },
    "tags": []
   },
   "outputs": [
    {
     "data": {
      "text/html": [
       "<div>\n",
       "<style scoped>\n",
       "    .dataframe tbody tr th:only-of-type {\n",
       "        vertical-align: middle;\n",
       "    }\n",
       "\n",
       "    .dataframe tbody tr th {\n",
       "        vertical-align: top;\n",
       "    }\n",
       "\n",
       "    .dataframe thead th {\n",
       "        text-align: right;\n",
       "    }\n",
       "</style>\n",
       "<table border=\"1\" class=\"dataframe\">\n",
       "  <thead>\n",
       "    <tr style=\"text-align: right;\">\n",
       "      <th></th>\n",
       "      <th>text</th>\n",
       "      <th>sentiment</th>\n",
       "      <th>sentence_len</th>\n",
       "    </tr>\n",
       "  </thead>\n",
       "  <tbody>\n",
       "    <tr>\n",
       "      <th>0</th>\n",
       "      <td>I`d have responded, if I were going</td>\n",
       "      <td>neutral</td>\n",
       "      <td>7.0</td>\n",
       "    </tr>\n",
       "    <tr>\n",
       "      <th>1</th>\n",
       "      <td>Sooo SAD I will miss you here in San Diego!!!</td>\n",
       "      <td>negative</td>\n",
       "      <td>10.0</td>\n",
       "    </tr>\n",
       "    <tr>\n",
       "      <th>2</th>\n",
       "      <td>my boss is bullying me...</td>\n",
       "      <td>negative</td>\n",
       "      <td>5.0</td>\n",
       "    </tr>\n",
       "    <tr>\n",
       "      <th>3</th>\n",
       "      <td>what interview! leave me alone</td>\n",
       "      <td>negative</td>\n",
       "      <td>5.0</td>\n",
       "    </tr>\n",
       "    <tr>\n",
       "      <th>4</th>\n",
       "      <td>Sons of ****, why couldn`t they put them on t...</td>\n",
       "      <td>negative</td>\n",
       "      <td>14.0</td>\n",
       "    </tr>\n",
       "    <tr>\n",
       "      <th>...</th>\n",
       "      <td>...</td>\n",
       "      <td>...</td>\n",
       "      <td>...</td>\n",
       "    </tr>\n",
       "    <tr>\n",
       "      <th>27476</th>\n",
       "      <td>wish we could come see u on Denver  husband l...</td>\n",
       "      <td>negative</td>\n",
       "      <td>16.0</td>\n",
       "    </tr>\n",
       "    <tr>\n",
       "      <th>27477</th>\n",
       "      <td>I`ve wondered about rake to.  The client has ...</td>\n",
       "      <td>negative</td>\n",
       "      <td>23.0</td>\n",
       "    </tr>\n",
       "    <tr>\n",
       "      <th>27478</th>\n",
       "      <td>Yay good for both of you. Enjoy the break - y...</td>\n",
       "      <td>positive</td>\n",
       "      <td>22.0</td>\n",
       "    </tr>\n",
       "    <tr>\n",
       "      <th>27479</th>\n",
       "      <td>But it was worth it  ****.</td>\n",
       "      <td>positive</td>\n",
       "      <td>6.0</td>\n",
       "    </tr>\n",
       "    <tr>\n",
       "      <th>27480</th>\n",
       "      <td>All this flirting going on - The ATG smiles...</td>\n",
       "      <td>neutral</td>\n",
       "      <td>11.0</td>\n",
       "    </tr>\n",
       "  </tbody>\n",
       "</table>\n",
       "<p>27481 rows × 3 columns</p>\n",
       "</div>"
      ],
      "text/plain": [
       "                                                    text sentiment  \\\n",
       "0                    I`d have responded, if I were going   neutral   \n",
       "1          Sooo SAD I will miss you here in San Diego!!!  negative   \n",
       "2                              my boss is bullying me...  negative   \n",
       "3                         what interview! leave me alone  negative   \n",
       "4       Sons of ****, why couldn`t they put them on t...  negative   \n",
       "...                                                  ...       ...   \n",
       "27476   wish we could come see u on Denver  husband l...  negative   \n",
       "27477   I`ve wondered about rake to.  The client has ...  negative   \n",
       "27478   Yay good for both of you. Enjoy the break - y...  positive   \n",
       "27479                         But it was worth it  ****.  positive   \n",
       "27480     All this flirting going on - The ATG smiles...   neutral   \n",
       "\n",
       "       sentence_len  \n",
       "0               7.0  \n",
       "1              10.0  \n",
       "2               5.0  \n",
       "3               5.0  \n",
       "4              14.0  \n",
       "...             ...  \n",
       "27476          16.0  \n",
       "27477          23.0  \n",
       "27478          22.0  \n",
       "27479           6.0  \n",
       "27480          11.0  \n",
       "\n",
       "[27481 rows x 3 columns]"
      ]
     },
     "execution_count": 36,
     "metadata": {},
     "output_type": "execute_result"
    }
   ],
   "source": [
    "# getting the average length of the tweet\n",
    "sent_df_train['sentence_len'] = sent_df_train['text'].str.split().str.len()\n",
    "sent_df_test['sentence_len'] = sent_df_test['text'].str.split().str.len()\n",
    "sent_df_train"
   ]
  },
  {
   "cell_type": "code",
   "execution_count": 37,
   "id": "0db74d55",
   "metadata": {
    "_cell_guid": "b61d809f-2964-40d2-ab11-8715e6d63fea",
    "_uuid": "58f29ee4-82b8-4fe0-90bc-e30d1abc7177",
    "collapsed": false,
    "execution": {
     "iopub.execute_input": "2024-04-06T22:58:14.196419Z",
     "iopub.status.busy": "2024-04-06T22:58:14.195586Z",
     "iopub.status.idle": "2024-04-06T22:58:14.218996Z",
     "shell.execute_reply": "2024-04-06T22:58:14.217817Z"
    },
    "jupyter": {
     "outputs_hidden": false
    },
    "papermill": {
     "duration": 0.061373,
     "end_time": "2024-04-06T22:58:14.224833",
     "exception": false,
     "start_time": "2024-04-06T22:58:14.163460",
     "status": "completed"
    },
    "tags": []
   },
   "outputs": [
    {
     "name": "stdout",
     "output_type": "stream",
     "text": [
      "<class 'pandas.core.frame.DataFrame'>\n",
      "RangeIndex: 27481 entries, 0 to 27480\n",
      "Data columns (total 3 columns):\n",
      " #   Column        Non-Null Count  Dtype  \n",
      "---  ------        --------------  -----  \n",
      " 0   text          27480 non-null  object \n",
      " 1   sentiment     27481 non-null  object \n",
      " 2   sentence_len  27480 non-null  float64\n",
      "dtypes: float64(1), object(2)\n",
      "memory usage: 644.2+ KB\n"
     ]
    },
    {
     "data": {
      "text/plain": [
       "None"
      ]
     },
     "metadata": {},
     "output_type": "display_data"
    },
    {
     "name": "stdout",
     "output_type": "stream",
     "text": [
      "--------------------\n",
      "<class 'pandas.core.frame.DataFrame'>\n",
      "RangeIndex: 3534 entries, 0 to 3533\n",
      "Data columns (total 3 columns):\n",
      " #   Column        Non-Null Count  Dtype \n",
      "---  ------        --------------  ----- \n",
      " 0   text          3534 non-null   object\n",
      " 1   sentiment     3534 non-null   object\n",
      " 2   sentence_len  3534 non-null   int64 \n",
      "dtypes: int64(1), object(2)\n",
      "memory usage: 83.0+ KB\n"
     ]
    },
    {
     "data": {
      "text/plain": [
       "None"
      ]
     },
     "metadata": {},
     "output_type": "display_data"
    }
   ],
   "source": [
    "display(sent_df_train.info())\n",
    "print('-' * 20)\n",
    "display(sent_df_test.info())"
   ]
  },
  {
   "cell_type": "code",
   "execution_count": 38,
   "id": "9d552089",
   "metadata": {
    "_cell_guid": "9aaea44a-d22a-4422-8430-14a041e15737",
    "_uuid": "595643cc-ae42-49b6-b800-814b2e6cd63c",
    "collapsed": false,
    "execution": {
     "iopub.execute_input": "2024-04-06T22:58:14.291639Z",
     "iopub.status.busy": "2024-04-06T22:58:14.290922Z",
     "iopub.status.idle": "2024-04-06T22:58:14.308189Z",
     "shell.execute_reply": "2024-04-06T22:58:14.307443Z"
    },
    "jupyter": {
     "outputs_hidden": false
    },
    "papermill": {
     "duration": 0.052399,
     "end_time": "2024-04-06T22:58:14.310972",
     "exception": false,
     "start_time": "2024-04-06T22:58:14.258573",
     "status": "completed"
    },
    "tags": []
   },
   "outputs": [
    {
     "name": "stdout",
     "output_type": "stream",
     "text": [
      "<class 'pandas.core.frame.DataFrame'>\n",
      "Index: 27480 entries, 0 to 27480\n",
      "Data columns (total 3 columns):\n",
      " #   Column        Non-Null Count  Dtype  \n",
      "---  ------        --------------  -----  \n",
      " 0   text          27480 non-null  object \n",
      " 1   sentiment     27480 non-null  object \n",
      " 2   sentence_len  27480 non-null  float64\n",
      "dtypes: float64(1), object(2)\n",
      "memory usage: 858.8+ KB\n"
     ]
    }
   ],
   "source": [
    "sent_df_train = sent_df_train.dropna()\n",
    "sent_df_train.info()"
   ]
  },
  {
   "cell_type": "code",
   "execution_count": 39,
   "id": "676f79aa",
   "metadata": {
    "_cell_guid": "6932e5f7-ae78-45ef-a1bb-4f6dbee4b391",
    "_uuid": "ed8ccd31-e86b-4efc-8ebd-68bb249694c2",
    "collapsed": false,
    "execution": {
     "iopub.execute_input": "2024-04-06T22:58:14.374089Z",
     "iopub.status.busy": "2024-04-06T22:58:14.373732Z",
     "iopub.status.idle": "2024-04-06T22:58:14.387297Z",
     "shell.execute_reply": "2024-04-06T22:58:14.386131Z"
    },
    "jupyter": {
     "outputs_hidden": false
    },
    "papermill": {
     "duration": 0.047919,
     "end_time": "2024-04-06T22:58:14.389388",
     "exception": false,
     "start_time": "2024-04-06T22:58:14.341469",
     "status": "completed"
    },
    "tags": []
   },
   "outputs": [
    {
     "data": {
      "text/html": [
       "<div>\n",
       "<style scoped>\n",
       "    .dataframe tbody tr th:only-of-type {\n",
       "        vertical-align: middle;\n",
       "    }\n",
       "\n",
       "    .dataframe tbody tr th {\n",
       "        vertical-align: top;\n",
       "    }\n",
       "\n",
       "    .dataframe thead th {\n",
       "        text-align: right;\n",
       "    }\n",
       "</style>\n",
       "<table border=\"1\" class=\"dataframe\">\n",
       "  <thead>\n",
       "    <tr style=\"text-align: right;\">\n",
       "      <th></th>\n",
       "      <th>sentence_len</th>\n",
       "    </tr>\n",
       "  </thead>\n",
       "  <tbody>\n",
       "    <tr>\n",
       "      <th>count</th>\n",
       "      <td>27480.000000</td>\n",
       "    </tr>\n",
       "    <tr>\n",
       "      <th>mean</th>\n",
       "      <td>12.902875</td>\n",
       "    </tr>\n",
       "    <tr>\n",
       "      <th>std</th>\n",
       "      <td>6.925938</td>\n",
       "    </tr>\n",
       "    <tr>\n",
       "      <th>min</th>\n",
       "      <td>1.000000</td>\n",
       "    </tr>\n",
       "    <tr>\n",
       "      <th>25%</th>\n",
       "      <td>7.000000</td>\n",
       "    </tr>\n",
       "    <tr>\n",
       "      <th>50%</th>\n",
       "      <td>12.000000</td>\n",
       "    </tr>\n",
       "    <tr>\n",
       "      <th>75%</th>\n",
       "      <td>18.000000</td>\n",
       "    </tr>\n",
       "    <tr>\n",
       "      <th>max</th>\n",
       "      <td>33.000000</td>\n",
       "    </tr>\n",
       "  </tbody>\n",
       "</table>\n",
       "</div>"
      ],
      "text/plain": [
       "       sentence_len\n",
       "count  27480.000000\n",
       "mean      12.902875\n",
       "std        6.925938\n",
       "min        1.000000\n",
       "25%        7.000000\n",
       "50%       12.000000\n",
       "75%       18.000000\n",
       "max       33.000000"
      ]
     },
     "execution_count": 39,
     "metadata": {},
     "output_type": "execute_result"
    }
   ],
   "source": [
    "sent_df_train.describe()"
   ]
  },
  {
   "cell_type": "code",
   "execution_count": 40,
   "id": "acc5e8b7",
   "metadata": {
    "_cell_guid": "60743da8-12d8-429a-828c-e7a245357f36",
    "_uuid": "0b82d85c-a9ca-4114-aefa-1031dad5476f",
    "collapsed": false,
    "execution": {
     "iopub.execute_input": "2024-04-06T22:58:14.451548Z",
     "iopub.status.busy": "2024-04-06T22:58:14.450889Z",
     "iopub.status.idle": "2024-04-06T22:58:14.465413Z",
     "shell.execute_reply": "2024-04-06T22:58:14.464212Z"
    },
    "jupyter": {
     "outputs_hidden": false
    },
    "papermill": {
     "duration": 0.048697,
     "end_time": "2024-04-06T22:58:14.468261",
     "exception": false,
     "start_time": "2024-04-06T22:58:14.419564",
     "status": "completed"
    },
    "tags": []
   },
   "outputs": [
    {
     "data": {
      "text/html": [
       "<div>\n",
       "<style scoped>\n",
       "    .dataframe tbody tr th:only-of-type {\n",
       "        vertical-align: middle;\n",
       "    }\n",
       "\n",
       "    .dataframe tbody tr th {\n",
       "        vertical-align: top;\n",
       "    }\n",
       "\n",
       "    .dataframe thead th {\n",
       "        text-align: right;\n",
       "    }\n",
       "</style>\n",
       "<table border=\"1\" class=\"dataframe\">\n",
       "  <thead>\n",
       "    <tr style=\"text-align: right;\">\n",
       "      <th></th>\n",
       "      <th>sentence_len</th>\n",
       "    </tr>\n",
       "  </thead>\n",
       "  <tbody>\n",
       "    <tr>\n",
       "      <th>count</th>\n",
       "      <td>3534.000000</td>\n",
       "    </tr>\n",
       "    <tr>\n",
       "      <th>mean</th>\n",
       "      <td>12.763158</td>\n",
       "    </tr>\n",
       "    <tr>\n",
       "      <th>std</th>\n",
       "      <td>6.907024</td>\n",
       "    </tr>\n",
       "    <tr>\n",
       "      <th>min</th>\n",
       "      <td>1.000000</td>\n",
       "    </tr>\n",
       "    <tr>\n",
       "      <th>25%</th>\n",
       "      <td>7.000000</td>\n",
       "    </tr>\n",
       "    <tr>\n",
       "      <th>50%</th>\n",
       "      <td>12.000000</td>\n",
       "    </tr>\n",
       "    <tr>\n",
       "      <th>75%</th>\n",
       "      <td>18.000000</td>\n",
       "    </tr>\n",
       "    <tr>\n",
       "      <th>max</th>\n",
       "      <td>32.000000</td>\n",
       "    </tr>\n",
       "  </tbody>\n",
       "</table>\n",
       "</div>"
      ],
      "text/plain": [
       "       sentence_len\n",
       "count   3534.000000\n",
       "mean      12.763158\n",
       "std        6.907024\n",
       "min        1.000000\n",
       "25%        7.000000\n",
       "50%       12.000000\n",
       "75%       18.000000\n",
       "max       32.000000"
      ]
     },
     "execution_count": 40,
     "metadata": {},
     "output_type": "execute_result"
    }
   ],
   "source": [
    "sent_df_test.describe()"
   ]
  },
  {
   "cell_type": "code",
   "execution_count": 41,
   "id": "50d6219a",
   "metadata": {
    "_cell_guid": "e67c36ea-8ee0-4d9e-9200-317e2037619b",
    "_uuid": "5bafb76f-cc95-4ab2-9651-4e44ffce3116",
    "collapsed": false,
    "execution": {
     "iopub.execute_input": "2024-04-06T22:58:14.526944Z",
     "iopub.status.busy": "2024-04-06T22:58:14.526160Z",
     "iopub.status.idle": "2024-04-06T22:58:14.823936Z",
     "shell.execute_reply": "2024-04-06T22:58:14.822980Z"
    },
    "jupyter": {
     "outputs_hidden": false
    },
    "papermill": {
     "duration": 0.328385,
     "end_time": "2024-04-06T22:58:14.826136",
     "exception": false,
     "start_time": "2024-04-06T22:58:14.497751",
     "status": "completed"
    },
    "tags": []
   },
   "outputs": [
    {
     "data": {
      "image/png": "[encoded data removed]",
      "text/plain": [
       "<Figure size 960x960 with 1 Axes>"
      ]
     },
     "metadata": {},
     "output_type": "display_data"
    },
    {
     "data": {
      "image/png": "[encoded data removed]",
      "text/plain": [
       "<Figure size 960x960 with 1 Axes>"
      ]
     },
     "metadata": {},
     "output_type": "display_data"
    }
   ],
   "source": [
    "plot_class_dist(sent_df_train, 'sentiment')\n",
    "plot_class_dist(sent_df_test, 'sentiment')"
   ]
  },
  {
   "cell_type": "code",
   "execution_count": 42,
   "id": "23dab517",
   "metadata": {
    "_cell_guid": "20e46488-f529-4a7f-9019-3a82a02f6e3e",
    "_uuid": "ac88774a-5bd1-497e-9694-45ef0ad93ae2",
    "collapsed": false,
    "execution": {
     "iopub.execute_input": "2024-04-06T22:58:14.895852Z",
     "iopub.status.busy": "2024-04-06T22:58:14.895444Z",
     "iopub.status.idle": "2024-04-06T22:58:15.727474Z",
     "shell.execute_reply": "2024-04-06T22:58:15.726564Z"
    },
    "jupyter": {
     "outputs_hidden": false
    },
    "papermill": {
     "duration": 0.865245,
     "end_time": "2024-04-06T22:58:15.729368",
     "exception": false,
     "start_time": "2024-04-06T22:58:14.864123",
     "status": "completed"
    },
    "tags": []
   },
   "outputs": [
    {
     "data": {
      "image/png": "[encoded data removed]",
      "text/plain": [
       "<Figure size 800x600 with 1 Axes>"
      ]
     },
     "metadata": {},
     "output_type": "display_data"
    },
    {
     "data": {
      "image/png": "[encoded data removed]",
      "text/plain": [
       "<Figure size 800x600 with 1 Axes>"
      ]
     },
     "metadata": {},
     "output_type": "display_data"
    }
   ],
   "source": [
    "plot_hist(sent_df_train, 'sentence_len')\n",
    "plot_hist(sent_df_test, 'sentence_len')"
   ]
  },
  {
   "cell_type": "code",
   "execution_count": 43,
   "id": "a8c311f6",
   "metadata": {
    "_cell_guid": "3601db86-8934-49c6-9d2b-b7104896da9d",
    "_uuid": "9bafc4f6-1bd2-4595-9485-1885601231e1",
    "collapsed": false,
    "execution": {
     "iopub.execute_input": "2024-04-06T22:58:15.788068Z",
     "iopub.status.busy": "2024-04-06T22:58:15.787370Z",
     "iopub.status.idle": "2024-04-06T22:58:15.864988Z",
     "shell.execute_reply": "2024-04-06T22:58:15.863493Z"
    },
    "jupyter": {
     "outputs_hidden": false
    },
    "papermill": {
     "duration": 0.10939,
     "end_time": "2024-04-06T22:58:15.867327",
     "exception": false,
     "start_time": "2024-04-06T22:58:15.757937",
     "status": "completed"
    },
    "tags": []
   },
   "outputs": [],
   "source": [
    "full_sent_processed = pd.concat([sent_df_train, sent_df_test])\n",
    "full_sent_processed.to_csv('/kaggle/working/sentiment-dataset.csv')"
   ]
  },
  {
   "cell_type": "markdown",
   "id": "84fe3be5",
   "metadata": {
    "_cell_guid": "99225c95-cac7-4678-9567-08d585743f27",
    "_uuid": "bb734934-f11f-4057-becf-d0a5cfcc4317",
    "papermill": {
     "duration": 0.02765,
     "end_time": "2024-04-06T22:58:15.922425",
     "exception": false,
     "start_time": "2024-04-06T22:58:15.894775",
     "status": "completed"
    },
    "tags": []
   },
   "source": [
    "# Mental disorder classifier model"
   ]
  },
  {
   "cell_type": "code",
   "execution_count": 44,
   "id": "334b3043",
   "metadata": {
    "_cell_guid": "2f3fa73b-2cd4-4828-800e-cadf2d464a6c",
    "_uuid": "f7ebc78f-c568-4276-8e23-00c27481ecad",
    "collapsed": false,
    "execution": {
     "iopub.execute_input": "2024-04-06T22:58:15.982573Z",
     "iopub.status.busy": "2024-04-06T22:58:15.981920Z",
     "iopub.status.idle": "2024-04-06T22:58:33.361019Z",
     "shell.execute_reply": "2024-04-06T22:58:33.360091Z"
    },
    "jupyter": {
     "outputs_hidden": false
    },
    "papermill": {
     "duration": 17.413009,
     "end_time": "2024-04-06T22:58:33.363477",
     "exception": false,
     "start_time": "2024-04-06T22:58:15.950468",
     "status": "completed"
    },
    "tags": []
   },
   "outputs": [
    {
     "name": "stderr",
     "output_type": "stream",
     "text": [
      "2024-04-06 22:58:18.874538: E external/local_xla/xla/stream_executor/cuda/cuda_dnn.cc:9261] Unable to register cuDNN factory: Attempting to register factory for plugin cuDNN when one has already been registered\n",
      "2024-04-06 22:58:18.874728: E external/local_xla/xla/stream_executor/cuda/cuda_fft.cc:607] Unable to register cuFFT factory: Attempting to register factory for plugin cuFFT when one has already been registered\n",
      "2024-04-06 22:58:19.097857: E external/local_xla/xla/stream_executor/cuda/cuda_blas.cc:1515] Unable to register cuBLAS factory: Attempting to register factory for plugin cuBLAS when one has already been registered\n"
     ]
    }
   ],
   "source": [
    "# imports for model rtraining\n",
    "import pandas as pd\n",
    "import tensorflow as tf\n",
    "import tensorflow.keras as keras\n",
    "import tensorflow_text as tftext\n",
    "from tensorflow.data.experimental import CsvDataset\n",
    "from tensorflow.data import TextLineDataset, Dataset\n",
    "import functools"
   ]
  },
  {
   "cell_type": "code",
   "execution_count": 45,
   "id": "8c15a523",
   "metadata": {
    "_cell_guid": "7f4292e1-a746-41a4-acf4-1f5d1258c983",
    "_uuid": "b245ae0c-2aef-407b-841c-ddf1a3acbdbd",
    "collapsed": false,
    "execution": {
     "iopub.execute_input": "2024-04-06T22:58:33.420730Z",
     "iopub.status.busy": "2024-04-06T22:58:33.419947Z",
     "iopub.status.idle": "2024-04-06T22:58:33.425273Z",
     "shell.execute_reply": "2024-04-06T22:58:33.424009Z"
    },
    "jupyter": {
     "outputs_hidden": false
    },
    "papermill": {
     "duration": 0.036254,
     "end_time": "2024-04-06T22:58:33.427470",
     "exception": false,
     "start_time": "2024-04-06T22:58:33.391216",
     "status": "completed"
    },
    "tags": []
   },
   "outputs": [],
   "source": [
    "# configurations for training the model\n",
    "SENT_LABELS = ['sent_compound']\n",
    "MENTAL_DISORDER_CAT_LABEL = 'subreddit'"
   ]
  },
  {
   "cell_type": "code",
   "execution_count": 46,
   "id": "df4fd72d",
   "metadata": {
    "_cell_guid": "714f20b5-4215-454e-94bc-95bbe11bb809",
    "_uuid": "5b135bf6-ac68-4f6e-ad98-615a925d236d",
    "collapsed": false,
    "execution": {
     "iopub.execute_input": "2024-04-06T22:58:33.486222Z",
     "iopub.status.busy": "2024-04-06T22:58:33.485810Z",
     "iopub.status.idle": "2024-04-06T22:58:33.491371Z",
     "shell.execute_reply": "2024-04-06T22:58:33.489687Z"
    },
    "jupyter": {
     "outputs_hidden": false
    },
    "papermill": {
     "duration": 0.03795,
     "end_time": "2024-04-06T22:58:33.494040",
     "exception": false,
     "start_time": "2024-04-06T22:58:33.456090",
     "status": "completed"
    },
    "tags": []
   },
   "outputs": [],
   "source": [
    "# loading needed data\n",
    "# mental_disorders_df = pd.read_csv('/kaggle/input/mental-disorder-dataset-analysis/final_cut.csv')\n",
    "mental_disorders_df = cleaned_df"
   ]
  },
  {
   "cell_type": "markdown",
   "id": "ef8c7bb6",
   "metadata": {
    "_cell_guid": "70095e09-ff3c-4e20-b6d0-8ac02f07e628",
    "_uuid": "2d8bbfac-c1b0-4e83-b071-f5c22d9d6493",
    "papermill": {
     "duration": 0.029399,
     "end_time": "2024-04-06T22:58:33.552707",
     "exception": false,
     "start_time": "2024-04-06T22:58:33.523308",
     "status": "completed"
    },
    "tags": []
   },
   "source": [
    "## preprocessing categorical labels"
   ]
  },
  {
   "cell_type": "code",
   "execution_count": 47,
   "id": "7739060c",
   "metadata": {
    "_cell_guid": "d20821fb-8761-47e5-862f-3758b3503c13",
    "_uuid": "14ea0bb2-ebeb-481b-8392-647443c9a231",
    "collapsed": false,
    "execution": {
     "iopub.execute_input": "2024-04-06T22:58:33.613262Z",
     "iopub.status.busy": "2024-04-06T22:58:33.612932Z",
     "iopub.status.idle": "2024-04-06T22:58:33.656159Z",
     "shell.execute_reply": "2024-04-06T22:58:33.654766Z"
    },
    "jupyter": {
     "outputs_hidden": false
    },
    "papermill": {
     "duration": 0.077549,
     "end_time": "2024-04-06T22:58:33.658140",
     "exception": false,
     "start_time": "2024-04-06T22:58:33.580591",
     "status": "completed"
    },
    "tags": []
   },
   "outputs": [
    {
     "data": {
      "text/plain": [
       "array(['no-mental-disorder', 'adhd', 'bipolar', 'autism', 'schizophrenia',\n",
       "       'anxiety', 'lonely', 'depression', 'mentalhealth',\n",
       "       'eating-disorder', 'jokes', 'ptsd', 'suicidewatch', 'OCD'],\n",
       "      dtype=object)"
      ]
     },
     "execution_count": 47,
     "metadata": {},
     "output_type": "execute_result"
    }
   ],
   "source": [
    "mental_disorder_vocab = mental_disorders_df[MENTAL_DISORDER_CAT_LABEL].unique()\n",
    "mental_disorder_vocab"
   ]
  },
  {
   "cell_type": "code",
   "execution_count": 48,
   "id": "87c53697",
   "metadata": {
    "_cell_guid": "a502090b-3087-4bdf-b5fc-1c1e3f5d4d84",
    "_uuid": "db5344b1-c001-415a-beed-51b710cb1cb3",
    "collapsed": false,
    "execution": {
     "iopub.execute_input": "2024-04-06T22:58:33.717021Z",
     "iopub.status.busy": "2024-04-06T22:58:33.715766Z",
     "iopub.status.idle": "2024-04-06T22:58:33.764427Z",
     "shell.execute_reply": "2024-04-06T22:58:33.763354Z"
    },
    "jupyter": {
     "outputs_hidden": false
    },
    "papermill": {
     "duration": 0.080684,
     "end_time": "2024-04-06T22:58:33.766750",
     "exception": false,
     "start_time": "2024-04-06T22:58:33.686066",
     "status": "completed"
    },
    "tags": []
   },
   "outputs": [],
   "source": [
    "# creating the lookup object\n",
    "label_lookup = keras.layers.StringLookup(vocabulary=mental_disorder_vocab, output_mode='int')"
   ]
  },
  {
   "cell_type": "code",
   "execution_count": 49,
   "id": "6db851f9",
   "metadata": {
    "_cell_guid": "2899a7f2-9ca9-444f-8bf6-46531f766629",
    "_uuid": "447c925f-a690-4610-aa66-3daca83b7638",
    "collapsed": false,
    "execution": {
     "iopub.execute_input": "2024-04-06T22:58:33.822708Z",
     "iopub.status.busy": "2024-04-06T22:58:33.821695Z",
     "iopub.status.idle": "2024-04-06T22:58:33.851731Z",
     "shell.execute_reply": "2024-04-06T22:58:33.850204Z"
    },
    "jupyter": {
     "outputs_hidden": false
    },
    "papermill": {
     "duration": 0.060348,
     "end_time": "2024-04-06T22:58:33.854203",
     "exception": false,
     "start_time": "2024-04-06T22:58:33.793855",
     "status": "completed"
    },
    "tags": []
   },
   "outputs": [
    {
     "data": {
      "text/plain": [
       "(['depression',\n",
       "  'no-mental-disorder',\n",
       "  'no-mental-disorder',\n",
       "  'depression',\n",
       "  'no-mental-disorder',\n",
       "  'schizophrenia',\n",
       "  'depression',\n",
       "  'jokes',\n",
       "  'anxiety',\n",
       "  'OCD'],\n",
       " <tf.Tensor: shape=(10,), dtype=int64, numpy=array([ 8,  1,  1,  8,  1,  5,  8, 11,  6, 14])>)"
      ]
     },
     "execution_count": 49,
     "metadata": {},
     "output_type": "execute_result"
    }
   ],
   "source": [
    "# testing the lookup string\n",
    "samples = cleaned_df[MENTAL_DISORDER_CAT_LABEL].sample(n=10)\n",
    "list(samples), label_lookup(samples)"
   ]
  },
  {
   "cell_type": "markdown",
   "id": "c60e12b1",
   "metadata": {
    "_cell_guid": "8a775ac6-4351-480f-ba5b-c766f541d911",
    "_uuid": "cc3c0986-5e89-40ab-ad4b-5703c4b2f421",
    "papermill": {
     "duration": 0.026514,
     "end_time": "2024-04-06T22:58:33.907980",
     "exception": false,
     "start_time": "2024-04-06T22:58:33.881466",
     "status": "completed"
    },
    "tags": []
   },
   "source": [
    "## Preprocessing post text"
   ]
  },
  {
   "cell_type": "code",
   "execution_count": 50,
   "id": "50f800c9",
   "metadata": {
    "_cell_guid": "b52e01fe-ab9c-4724-a46d-3cd127c3003b",
    "_uuid": "d30165fc-38e8-4765-8d88-c2195f65fb39",
    "collapsed": false,
    "execution": {
     "iopub.execute_input": "2024-04-06T22:58:33.964674Z",
     "iopub.status.busy": "2024-04-06T22:58:33.964286Z",
     "iopub.status.idle": "2024-04-06T22:58:33.968938Z",
     "shell.execute_reply": "2024-04-06T22:58:33.967344Z"
    },
    "jupyter": {
     "outputs_hidden": false
    },
    "papermill": {
     "duration": 0.036013,
     "end_time": "2024-04-06T22:58:33.971656",
     "exception": false,
     "start_time": "2024-04-06T22:58:33.935643",
     "status": "completed"
    },
    "tags": []
   },
   "outputs": [],
   "source": [
    "# # BERT pre-processing for the text input\n",
    "# text_ds = TextLineDataset.from_tensor_slices(text_df)\n",
    "# ind = 0\n",
    "\n",
    "# for post in text_ds.take(5):\n",
    "\n",
    "#     print(post)\n",
    "#     print('-' * 20)"
   ]
  },
  {
   "cell_type": "markdown",
   "id": "89f1f605",
   "metadata": {
    "_cell_guid": "9eb63487-c434-4fdc-836a-ff482a002403",
    "_uuid": "5ad2d953-9648-4a28-b098-ca9b53396433",
    "papermill": {
     "duration": 0.026552,
     "end_time": "2024-04-06T22:58:34.024686",
     "exception": false,
     "start_time": "2024-04-06T22:58:33.998134",
     "status": "completed"
    },
    "tags": []
   },
   "source": [
    "# toying with tokenizers"
   ]
  },
  {
   "cell_type": "code",
   "execution_count": 51,
   "id": "fc452a09",
   "metadata": {
    "_cell_guid": "bab7812d-7ddd-4c8f-8731-10a86b67f396",
    "_uuid": "d29a087b-3101-4456-8689-fc9177a54814",
    "collapsed": false,
    "execution": {
     "iopub.execute_input": "2024-04-06T22:58:34.079761Z",
     "iopub.status.busy": "2024-04-06T22:58:34.079411Z",
     "iopub.status.idle": "2024-04-06T22:58:34.127247Z",
     "shell.execute_reply": "2024-04-06T22:58:34.126284Z"
    },
    "jupyter": {
     "outputs_hidden": false
    },
    "papermill": {
     "duration": 0.077833,
     "end_time": "2024-04-06T22:58:34.129352",
     "exception": false,
     "start_time": "2024-04-06T22:58:34.051519",
     "status": "completed"
    },
    "tags": []
   },
   "outputs": [
    {
     "data": {
      "text/plain": [
       "{'text_a': <tf.Tensor: shape=(), dtype=string, numpy=b'Sponge bob Squarepants is an Avenger'>,\n",
       " 'text_b': <tf.Tensor: shape=(), dtype=string, numpy=b'Barack Obama is the President.'>}"
      ]
     },
     "execution_count": 51,
     "metadata": {},
     "output_type": "execute_result"
    }
   ],
   "source": [
    "examples = {\n",
    "    \"text_a\": [\n",
    "      \"Sponge bob Squarepants is an Avenger\",\n",
    "      \"Marvel Avengers\"\n",
    "    ],\n",
    "    \"text_b\": [\n",
    "     \"Barack Obama is the President.\",\n",
    "     \"President is the highest office\"\n",
    "  ],\n",
    "}\n",
    "\n",
    "dataset = tf.data.Dataset.from_tensor_slices(examples)\n",
    "next(iter(dataset))"
   ]
  },
  {
   "cell_type": "markdown",
   "id": "5cccc212",
   "metadata": {
    "_cell_guid": "766a0791-b96f-47d8-a9b1-70fa37aba9f1",
    "_uuid": "aa68332d-439b-4d26-ab3f-6c8a39416ee3",
    "papermill": {
     "duration": 0.027673,
     "end_time": "2024-04-06T22:58:34.184784",
     "exception": false,
     "start_time": "2024-04-06T22:58:34.157111",
     "status": "completed"
    },
    "tags": []
   },
   "source": [
    "## Training the mental disorder classifier model"
   ]
  },
  {
   "cell_type": "code",
   "execution_count": 52,
   "id": "81f1c9e8",
   "metadata": {
    "_cell_guid": "c2354553-4f78-4801-9dc1-ab9a6207caf9",
    "_uuid": "33f43c52-385f-4257-a868-3b1728ca76e7",
    "collapsed": false,
    "execution": {
     "iopub.execute_input": "2024-04-06T22:58:34.243092Z",
     "iopub.status.busy": "2024-04-06T22:58:34.241814Z",
     "iopub.status.idle": "2024-04-06T22:58:34.249462Z",
     "shell.execute_reply": "2024-04-06T22:58:34.248160Z"
    },
    "jupyter": {
     "outputs_hidden": false
    },
    "papermill": {
     "duration": 0.038972,
     "end_time": "2024-04-06T22:58:34.251706",
     "exception": false,
     "start_time": "2024-04-06T22:58:34.212734",
     "status": "completed"
    },
    "tags": []
   },
   "outputs": [],
   "source": [
    "_VOCAB = [\n",
    "    # Special tokens\n",
    "    b\"[UNK]\", b\"[MASK]\", b\"[RANDOM]\", b\"[CLS]\", b\"[SEP]\",\n",
    "    # Suffixes\n",
    "    b\"##ack\", b\"##ama\", b\"##ger\", b\"##gers\", b\"##onge\", b\"##pants\",  b\"##uare\",\n",
    "    b\"##vel\", b\"##ven\", b\"an\", b\"A\", b\"Bar\", b\"Hates\", b\"Mar\", b\"Ob\",\n",
    "    b\"Patrick\", b\"President\", b\"Sp\", b\"Sq\", b\"bob\", b\"box\", b\"has\", b\"highest\",\n",
    "    b\"is\", b\"office\", b\"the\",\n",
    "]\n",
    "\n",
    "_START_TOKEN = _VOCAB.index(b\"[CLS]\")\n",
    "_END_TOKEN = _VOCAB.index(b\"[SEP]\")\n",
    "_MASK_TOKEN = _VOCAB.index(b\"[MASK]\")\n",
    "_RANDOM_TOKEN = _VOCAB.index(b\"[RANDOM]\")\n",
    "_UNK_TOKEN = _VOCAB.index(b\"[UNK]\")\n",
    "_MAX_SEQ_LEN = 8\n",
    "_MAX_PREDICTIONS_PER_BATCH = 5\n",
    "\n",
    "_VOCAB_SIZE = len(_VOCAB)"
   ]
  },
  {
   "cell_type": "code",
   "execution_count": 53,
   "id": "7f698d83",
   "metadata": {
    "execution": {
     "iopub.execute_input": "2024-04-06T22:58:34.308248Z",
     "iopub.status.busy": "2024-04-06T22:58:34.307478Z",
     "iopub.status.idle": "2024-04-06T22:58:34.316634Z",
     "shell.execute_reply": "2024-04-06T22:58:34.315234Z"
    },
    "papermill": {
     "duration": 0.040142,
     "end_time": "2024-04-06T22:58:34.319436",
     "exception": false,
     "start_time": "2024-04-06T22:58:34.279294",
     "status": "completed"
    },
    "tags": []
   },
   "outputs": [],
   "source": [
    "lookup_table = tf.lookup.StaticVocabularyTable(\n",
    "tf.lookup.KeyValueTensorInitializer(\n",
    "keys=_VOCAB,\n",
    "values = tf.range(\n",
    "tf.size(_VOCAB, out_type=tf.int64), dtype=tf.int64),\n",
    "    value_dtype = tf.int64\n",
    "),\n",
    "num_oov_buckets=1\n",
    ")"
   ]
  },
  {
   "cell_type": "code",
   "execution_count": 54,
   "id": "3d2d34f5",
   "metadata": {
    "execution": {
     "iopub.execute_input": "2024-04-06T22:58:34.374964Z",
     "iopub.status.busy": "2024-04-06T22:58:34.374580Z",
     "iopub.status.idle": "2024-04-06T22:58:34.434548Z",
     "shell.execute_reply": "2024-04-06T22:58:34.433147Z"
    },
    "papermill": {
     "duration": 0.089872,
     "end_time": "2024-04-06T22:58:34.436504",
     "exception": false,
     "start_time": "2024-04-06T22:58:34.346632",
     "status": "completed"
    },
    "tags": []
   },
   "outputs": [
    {
     "data": {
      "text/plain": [
       "<tf.RaggedTensor [[[b'Sp', b'##onge'], [b'bob'], [b'Sq', b'##uare', b'##pants'], [b'is'],\n",
       "  [b'an'], [b'A', b'##ven', b'##ger']]                                  ,\n",
       " [[b'Mar', b'##vel'], [b'A', b'##ven', b'##gers']]]>"
      ]
     },
     "execution_count": 54,
     "metadata": {},
     "output_type": "execute_result"
    }
   ],
   "source": [
    "bert_tokenizer = tftext.BertTokenizer(lookup_table, token_out_type=tf.string)\n",
    "bert_tokenizer.tokenize(examples['text_a'])"
   ]
  },
  {
   "cell_type": "code",
   "execution_count": null,
   "id": "59798a37",
   "metadata": {
    "papermill": {
     "duration": 0.032561,
     "end_time": "2024-04-06T22:58:34.497514",
     "exception": false,
     "start_time": "2024-04-06T22:58:34.464953",
     "status": "completed"
    },
    "tags": []
   },
   "outputs": [],
   "source": []
  },
  {
   "cell_type": "code",
   "execution_count": 55,
   "id": "bb221753",
   "metadata": {
    "execution": {
     "iopub.execute_input": "2024-04-06T22:58:34.567275Z",
     "iopub.status.busy": "2024-04-06T22:58:34.566896Z",
     "iopub.status.idle": "2024-04-06T22:58:34.604143Z",
     "shell.execute_reply": "2024-04-06T22:58:34.603168Z"
    },
    "papermill": {
     "duration": 0.072309,
     "end_time": "2024-04-06T22:58:34.606595",
     "exception": false,
     "start_time": "2024-04-06T22:58:34.534286",
     "status": "completed"
    },
    "tags": []
   },
   "outputs": [],
   "source": [
    "bert_tokenizer = tftext.BertTokenizer(lookup_table, token_out_type=tf.int64)\n",
    "segment_b = bert_tokenizer.tokenize(examples['text_b']).merge_dims(-2,-1)"
   ]
  },
  {
   "cell_type": "markdown",
   "id": "67bc59f1",
   "metadata": {
    "_cell_guid": "27d6f903-51ef-422b-a72c-983b51d5c80a",
    "_uuid": "948f1bef-3f57-4c3d-923e-67458c5251a1",
    "papermill": {
     "duration": 0.025875,
     "end_time": "2024-04-06T22:58:34.659477",
     "exception": false,
     "start_time": "2024-04-06T22:58:34.633602",
     "status": "completed"
    },
    "tags": []
   },
   "source": [
    "# Sentiment analysis model"
   ]
  },
  {
   "cell_type": "code",
   "execution_count": 56,
   "id": "6c7daf3f",
   "metadata": {
    "_cell_guid": "0e896d4f-8bf3-4f69-bbe8-511b87f6a3e2",
    "_uuid": "63ec5f7d-9ef5-4492-aa18-80c33e9f9533",
    "collapsed": false,
    "execution": {
     "iopub.execute_input": "2024-04-06T22:58:34.716010Z",
     "iopub.status.busy": "2024-04-06T22:58:34.715375Z",
     "iopub.status.idle": "2024-04-06T22:58:34.719656Z",
     "shell.execute_reply": "2024-04-06T22:58:34.718771Z"
    },
    "jupyter": {
     "outputs_hidden": false
    },
    "papermill": {
     "duration": 0.03487,
     "end_time": "2024-04-06T22:58:34.721866",
     "exception": false,
     "start_time": "2024-04-06T22:58:34.686996",
     "status": "completed"
    },
    "tags": []
   },
   "outputs": [],
   "source": [
    "# loading the sentiment analysis data\n",
    "# setn_df = pd.read_csv('/kaggle/input/mental-disorder-dataset-analysis/sentiment-dataset.csv')"
   ]
  },
  {
   "cell_type": "code",
   "execution_count": null,
   "id": "b3bb1ba2",
   "metadata": {
    "papermill": {
     "duration": 0.027649,
     "end_time": "2024-04-06T22:58:34.779984",
     "exception": false,
     "start_time": "2024-04-06T22:58:34.752335",
     "status": "completed"
    },
    "tags": []
   },
   "outputs": [],
   "source": []
  }
 ],
 "metadata": {
  "kaggle": {
   "accelerator": "none",
   "dataSources": [
    {
     "databundleVersionId": 1099992,
     "sourceId": 16295,
     "sourceType": "competition"
    },
    {
     "datasetId": 2837348,
     "sourceId": 4893010,
     "sourceType": "datasetVersion"
    },
    {
     "datasetId": 4716394,
     "sourceId": 8007731,
     "sourceType": "datasetVersion"
    },
    {
     "datasetId": 4726378,
     "sourceId": 8020936,
     "sourceType": "datasetVersion"
    },
    {
     "datasetId": 4731267,
     "sourceId": 8027667,
     "sourceType": "datasetVersion"
    },
    {
     "sourceId": 170554508,
     "sourceType": "kernelVersion"
    }
   ],
   "dockerImageVersionId": 30673,
   "isGpuEnabled": false,
   "isInternetEnabled": true,
   "language": "python",
   "sourceType": "notebook"
  },
  "kernelspec": {
   "display_name": "Python 3",
   "language": "python",
   "name": "python3"
  },
  "language_info": {
   "codemirror_mode": {
    "name": "ipython",
    "version": 3
   },
   "file_extension": ".py",
   "mimetype": "text/x-python",
   "name": "python",
   "nbconvert_exporter": "python",
   "pygments_lexer": "ipython3",
   "version": "3.10.13"
  },
  "papermill": {
   "default_parameters": {},
   "duration": 297.753325,
   "end_time": "2024-04-06T22:58:37.518060",
   "environment_variables": {},
   "exception": null,
   "input_path": "__notebook__.ipynb",
   "output_path": "__notebook__.ipynb",
   "parameters": {},
   "start_time": "2024-04-06T22:53:39.764735",
   "version": "2.5.0"
  }
 },
 "nbformat": 4,
 "nbformat_minor": 5
}
